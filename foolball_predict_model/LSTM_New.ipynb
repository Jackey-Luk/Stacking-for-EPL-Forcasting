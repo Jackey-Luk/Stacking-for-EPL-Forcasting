{
 "cells": [
  {
   "cell_type": "code",
   "execution_count": 25,
   "metadata": {
    "ExecuteTime": {
     "end_time": "2025-04-18T16:44:55.505488800Z",
     "start_time": "2025-04-18T16:44:55.495326300Z"
    }
   },
   "outputs": [],
   "source": [
    "import numpy as np\n",
    "import tensorflow as tf\n",
    "from tensorflow import keras\n",
    "from tensorflow.keras import layers\n",
    "import pandas as pd"
   ]
  },
  {
   "cell_type": "code",
   "execution_count": 26,
   "metadata": {
    "ExecuteTime": {
     "end_time": "2025-04-18T16:44:56.544689Z",
     "start_time": "2025-04-18T16:44:56.499721300Z"
    }
   },
   "outputs": [
    {
     "name": "stdout",
     "output_type": "stream",
     "text": [
      "         Date     HomeTeam    AwayTeam  FTR   VCH  B365H  HTGS  ATGS  HTGC  \\\n",
      "0  2010-08-14  Aston Villa    West Ham    0  2.00   2.00   0.0   0.0   0.0   \n",
      "1  2010-08-14    Blackburn     Everton    0  3.10   2.88   0.0   0.0   0.0   \n",
      "2  2010-08-14       Bolton      Fulham    1  2.20   2.20   0.0   0.0   0.0   \n",
      "3  2010-08-14      Chelsea   West Brom    0  1.17   1.17   0.0   0.0   0.0   \n",
      "4  2010-08-14   Sunderland  Birmingham    1  2.20   2.10   0.0   0.0   0.0   \n",
      "5  2010-08-14    Tottenham    Man City    1  2.30   2.40   0.0   0.0   0.0   \n",
      "6  2010-08-14        Wigan   Blackpool    1  1.83   1.83   0.0   0.0   0.0   \n",
      "7  2010-08-14       Wolves       Stoke    0  2.30   2.30   0.0   0.0   0.0   \n",
      "8  2010-08-15    Liverpool     Arsenal    1  2.50   2.50   0.0   0.0   0.0   \n",
      "9  2010-08-16   Man United   Newcastle    0  1.22   1.25   0.0   0.0   0.0   \n",
      "\n",
      "   ATGC  ...  DiffPts  DiffFormPts  DiffLP  H2HM1  H2HM2  H2HM3  H2HM4  H2HM5  \\\n",
      "0   0.0  ...      0.0          0.0   -11.0     -1     -1     -1     -1     -1   \n",
      "1   0.0  ...      0.0          0.0     2.0     -1     -1     -1     -1     -1   \n",
      "2   0.0  ...      0.0          0.0     2.0     -1     -1     -1     -1     -1   \n",
      "3   0.0  ...      0.0          0.0   -17.0     -1     -1     -1     -1     -1   \n",
      "4   0.0  ...      0.0          0.0     4.0     -1     -1     -1     -1     -1   \n",
      "5   0.0  ...      0.0          0.0    -1.0     -1     -1     -1     -1     -1   \n",
      "6   0.0  ...      0.0          0.0    -2.0     -1     -1     -1     -1     -1   \n",
      "7   0.0  ...      0.0          0.0     4.0     -1     -1     -1     -1     -1   \n",
      "8   0.0  ...      0.0          0.0     4.0     -1     -1     -1     -1     -1   \n",
      "9   0.0  ...      0.0          0.0   -16.0     -1     -1     -1     -1     -1   \n",
      "\n",
      "   final1  final2  \n",
      "0     1.0     0.0  \n",
      "1     1.0     0.0  \n",
      "2     0.0     1.0  \n",
      "3     1.0     0.0  \n",
      "4     0.0     1.0  \n",
      "5     0.0     1.0  \n",
      "6     0.0     1.0  \n",
      "7     1.0     0.0  \n",
      "8     0.0     1.0  \n",
      "9     1.0     0.0  \n",
      "\n",
      "[10 rows x 40 columns]\n",
      "(4940, 40)\n"
     ]
    }
   ],
   "source": [
    "dataTrain=pd.read_csv(\"allAtt_onehot_large_train_new8.csv\")\n",
    "dataTest=pd.read_csv(\"allAtt_onehot_large_test_new8.csv\")\n",
    "print(dataTrain.head(10))\n",
    "print(dataTrain.shape)"
   ]
  },
  {
   "cell_type": "code",
   "execution_count": 27,
   "metadata": {
    "ExecuteTime": {
     "end_time": "2025-04-18T16:44:58.416837700Z",
     "start_time": "2025-04-18T16:44:58.406691500Z"
    }
   },
   "outputs": [],
   "source": [
    "batch_size = 64\n",
    "# Each MNIST image batch is a tensor of shape (batch_size, 28, 1).\n",
    "# Each input sequence will be of size (28, 1).\n",
    "input_dim = 34\n",
    "\n",
    "units = 64\n",
    "output_size = 2  # labels are from Win or Loss\n",
    "\n",
    "# Build the RNN model\n",
    "def build_model(allow_cudnn_kernel=True):\n",
    "    # CuDNN is only available at the layer level, and not at the cell level.\n",
    "    # This means `LSTM(units)` will use the CuDNN kernel,\n",
    "    # while RNN(LSTMCell(units)) will run on non-CuDNN kernel.\n",
    "    if allow_cudnn_kernel:\n",
    "        # The LSTM layer with default options uses CuDNN.\n",
    "        lstm_layer = keras.layers.LSTM(units, input_shape=(input_dim,1))\n",
    "    else:\n",
    "        # Wrapping a LSTMCell in a RNN layer will not use CuDNN.\n",
    "        lstm_layer = keras.layers.RNN(\n",
    "            keras.layers.LSTMCell(units), input_shape=(input_dim,1)\n",
    "        )\n",
    "    model = keras.models.Sequential(\n",
    "        [\n",
    "            lstm_layer,\n",
    "            keras.layers.BatchNormalization(),\n",
    "            keras.layers.Dense(output_size, activation=\"softmax\"),\n",
    "        ]\n",
    "    )\n",
    "    return model"
   ]
  },
  {
   "cell_type": "code",
   "execution_count": 28,
   "metadata": {
    "ExecuteTime": {
     "end_time": "2025-04-18T16:45:04.343743200Z",
     "start_time": "2025-04-18T16:45:04.327559500Z"
    }
   },
   "outputs": [],
   "source": [
    "x_train, y_train = dataTrain.iloc[:,4:38].values,dataTrain.iloc[:,38:].values\n",
    "x_train=np.reshape(x_train,(4940,34,1))\n",
    "x_test, y_test = dataTest.iloc[:,4:38].values,dataTest.iloc[:,38:].values\n",
    "x_test=np.reshape(x_test,(380,34,1))"
   ]
  },
  {
   "cell_type": "code",
   "outputs": [
    {
     "data": {
      "text/plain": "array([[0., 1.],\n       [1., 0.],\n       [0., 1.],\n       [1., 0.],\n       [0., 1.],\n       [0., 1.],\n       [1., 0.],\n       [0., 1.],\n       [0., 1.],\n       [1., 0.],\n       [1., 0.],\n       [0., 1.],\n       [1., 0.],\n       [0., 1.],\n       [1., 0.],\n       [1., 0.],\n       [1., 0.],\n       [1., 0.],\n       [0., 1.],\n       [1., 0.],\n       [0., 1.],\n       [0., 1.],\n       [0., 1.],\n       [0., 1.],\n       [1., 0.],\n       [0., 1.],\n       [0., 1.],\n       [0., 1.],\n       [0., 1.],\n       [0., 1.],\n       [0., 1.],\n       [0., 1.],\n       [0., 1.],\n       [0., 1.],\n       [1., 0.],\n       [1., 0.],\n       [1., 0.],\n       [1., 0.],\n       [1., 0.],\n       [0., 1.],\n       [1., 0.],\n       [1., 0.],\n       [0., 1.],\n       [1., 0.],\n       [0., 1.],\n       [1., 0.],\n       [0., 1.],\n       [0., 1.],\n       [0., 1.],\n       [0., 1.],\n       [0., 1.],\n       [1., 0.],\n       [0., 1.],\n       [0., 1.],\n       [0., 1.],\n       [1., 0.],\n       [0., 1.],\n       [1., 0.],\n       [0., 1.],\n       [1., 0.],\n       [0., 1.],\n       [0., 1.],\n       [0., 1.],\n       [1., 0.],\n       [1., 0.],\n       [1., 0.],\n       [1., 0.],\n       [0., 1.],\n       [0., 1.],\n       [0., 1.],\n       [0., 1.],\n       [0., 1.],\n       [1., 0.],\n       [1., 0.],\n       [1., 0.],\n       [0., 1.],\n       [0., 1.],\n       [0., 1.],\n       [0., 1.],\n       [1., 0.],\n       [1., 0.],\n       [0., 1.],\n       [1., 0.],\n       [1., 0.],\n       [1., 0.],\n       [0., 1.],\n       [0., 1.],\n       [0., 1.],\n       [1., 0.],\n       [1., 0.],\n       [0., 1.],\n       [0., 1.],\n       [1., 0.],\n       [1., 0.],\n       [0., 1.],\n       [0., 1.],\n       [1., 0.],\n       [0., 1.],\n       [1., 0.],\n       [0., 1.],\n       [0., 1.],\n       [1., 0.],\n       [0., 1.],\n       [0., 1.],\n       [1., 0.],\n       [1., 0.],\n       [1., 0.],\n       [1., 0.],\n       [0., 1.],\n       [0., 1.],\n       [1., 0.],\n       [1., 0.],\n       [0., 1.],\n       [1., 0.],\n       [1., 0.],\n       [1., 0.],\n       [0., 1.],\n       [1., 0.],\n       [1., 0.],\n       [0., 1.],\n       [0., 1.],\n       [0., 1.],\n       [1., 0.],\n       [1., 0.],\n       [0., 1.],\n       [0., 1.],\n       [0., 1.],\n       [0., 1.],\n       [0., 1.],\n       [1., 0.],\n       [1., 0.],\n       [1., 0.],\n       [1., 0.],\n       [0., 1.],\n       [1., 0.],\n       [0., 1.],\n       [1., 0.],\n       [1., 0.],\n       [0., 1.],\n       [0., 1.],\n       [1., 0.],\n       [0., 1.],\n       [1., 0.],\n       [0., 1.],\n       [1., 0.],\n       [0., 1.],\n       [1., 0.],\n       [1., 0.],\n       [1., 0.],\n       [0., 1.],\n       [0., 1.],\n       [0., 1.],\n       [0., 1.],\n       [1., 0.],\n       [0., 1.],\n       [1., 0.],\n       [1., 0.],\n       [1., 0.],\n       [0., 1.],\n       [1., 0.],\n       [0., 1.],\n       [1., 0.],\n       [0., 1.],\n       [1., 0.],\n       [0., 1.],\n       [1., 0.],\n       [0., 1.],\n       [1., 0.],\n       [0., 1.],\n       [0., 1.],\n       [0., 1.],\n       [1., 0.],\n       [0., 1.],\n       [1., 0.],\n       [0., 1.],\n       [1., 0.],\n       [0., 1.],\n       [1., 0.],\n       [0., 1.],\n       [1., 0.],\n       [0., 1.],\n       [0., 1.],\n       [1., 0.],\n       [0., 1.],\n       [1., 0.],\n       [0., 1.],\n       [1., 0.],\n       [0., 1.],\n       [0., 1.],\n       [1., 0.],\n       [1., 0.],\n       [1., 0.],\n       [1., 0.],\n       [1., 0.],\n       [1., 0.],\n       [1., 0.],\n       [1., 0.],\n       [0., 1.],\n       [0., 1.],\n       [1., 0.],\n       [0., 1.],\n       [0., 1.],\n       [0., 1.],\n       [1., 0.],\n       [1., 0.],\n       [0., 1.],\n       [0., 1.],\n       [0., 1.],\n       [0., 1.],\n       [0., 1.],\n       [1., 0.],\n       [1., 0.],\n       [0., 1.],\n       [1., 0.],\n       [1., 0.],\n       [1., 0.],\n       [0., 1.],\n       [0., 1.],\n       [0., 1.],\n       [1., 0.],\n       [0., 1.],\n       [0., 1.],\n       [0., 1.],\n       [0., 1.],\n       [0., 1.],\n       [1., 0.],\n       [1., 0.],\n       [0., 1.],\n       [1., 0.],\n       [1., 0.],\n       [1., 0.],\n       [0., 1.],\n       [1., 0.],\n       [0., 1.],\n       [0., 1.],\n       [0., 1.],\n       [0., 1.],\n       [0., 1.],\n       [0., 1.],\n       [0., 1.],\n       [0., 1.],\n       [0., 1.],\n       [1., 0.],\n       [0., 1.],\n       [0., 1.],\n       [0., 1.],\n       [0., 1.],\n       [0., 1.],\n       [1., 0.],\n       [1., 0.],\n       [1., 0.],\n       [0., 1.],\n       [1., 0.],\n       [0., 1.],\n       [0., 1.],\n       [1., 0.],\n       [1., 0.],\n       [1., 0.],\n       [0., 1.],\n       [0., 1.],\n       [1., 0.],\n       [1., 0.],\n       [0., 1.],\n       [1., 0.],\n       [0., 1.],\n       [0., 1.],\n       [1., 0.],\n       [0., 1.],\n       [1., 0.],\n       [0., 1.],\n       [0., 1.],\n       [1., 0.],\n       [1., 0.],\n       [0., 1.],\n       [1., 0.],\n       [0., 1.],\n       [0., 1.],\n       [1., 0.],\n       [1., 0.],\n       [1., 0.],\n       [0., 1.],\n       [1., 0.],\n       [0., 1.],\n       [1., 0.],\n       [1., 0.],\n       [0., 1.],\n       [0., 1.],\n       [0., 1.],\n       [1., 0.],\n       [1., 0.],\n       [0., 1.],\n       [1., 0.],\n       [0., 1.],\n       [0., 1.],\n       [1., 0.],\n       [1., 0.],\n       [0., 1.],\n       [0., 1.],\n       [1., 0.],\n       [0., 1.],\n       [1., 0.],\n       [1., 0.],\n       [1., 0.],\n       [0., 1.],\n       [0., 1.],\n       [1., 0.],\n       [0., 1.],\n       [1., 0.],\n       [0., 1.],\n       [0., 1.],\n       [0., 1.],\n       [0., 1.],\n       [1., 0.],\n       [1., 0.],\n       [1., 0.],\n       [0., 1.],\n       [1., 0.],\n       [0., 1.],\n       [0., 1.],\n       [0., 1.],\n       [0., 1.],\n       [0., 1.],\n       [1., 0.],\n       [0., 1.],\n       [0., 1.],\n       [0., 1.],\n       [1., 0.],\n       [1., 0.],\n       [1., 0.],\n       [0., 1.],\n       [1., 0.],\n       [0., 1.],\n       [1., 0.],\n       [1., 0.],\n       [1., 0.],\n       [0., 1.],\n       [0., 1.],\n       [0., 1.],\n       [0., 1.],\n       [1., 0.],\n       [1., 0.],\n       [1., 0.],\n       [0., 1.],\n       [1., 0.],\n       [0., 1.],\n       [0., 1.],\n       [1., 0.],\n       [0., 1.],\n       [1., 0.],\n       [0., 1.],\n       [0., 1.],\n       [0., 1.],\n       [1., 0.],\n       [1., 0.],\n       [1., 0.],\n       [1., 0.],\n       [1., 0.],\n       [0., 1.],\n       [0., 1.],\n       [1., 0.],\n       [0., 1.],\n       [1., 0.],\n       [1., 0.],\n       [0., 1.],\n       [0., 1.],\n       [0., 1.],\n       [0., 1.],\n       [0., 1.],\n       [0., 1.],\n       [1., 0.],\n       [1., 0.],\n       [0., 1.],\n       [0., 1.],\n       [0., 1.],\n       [1., 0.],\n       [1., 0.],\n       [1., 0.],\n       [0., 1.],\n       [1., 0.],\n       [0., 1.]])"
     },
     "execution_count": 29,
     "metadata": {},
     "output_type": "execute_result"
    }
   ],
   "source": [
    "y_test"
   ],
   "metadata": {
    "collapsed": false,
    "ExecuteTime": {
     "end_time": "2025-04-18T16:45:05.466635500Z",
     "start_time": "2025-04-18T16:45:05.446980200Z"
    }
   },
   "execution_count": 29
  },
  {
   "cell_type": "code",
   "execution_count": 30,
   "metadata": {
    "ExecuteTime": {
     "end_time": "2025-04-18T16:45:08.043766600Z",
     "start_time": "2025-04-18T16:45:07.982611400Z"
    }
   },
   "outputs": [
    {
     "name": "stderr",
     "output_type": "stream",
     "text": [
      "E:\\python-learn\\pythonProject2\\.venv\\Lib\\site-packages\\keras\\src\\layers\\rnn\\rnn.py:200: UserWarning: Do not pass an `input_shape`/`input_dim` argument to a layer. When using Sequential models, prefer using an `Input(shape)` object as the first layer in the model instead.\n",
      "  super().__init__(**kwargs)\n"
     ]
    },
    {
     "data": {
      "text/plain": "\u001B[1mModel: \"sequential_2\"\u001B[0m\n",
      "text/html": "<pre style=\"white-space:pre;overflow-x:auto;line-height:normal;font-family:Menlo,'DejaVu Sans Mono',consolas,'Courier New',monospace\"><span style=\"font-weight: bold\">Model: \"sequential_2\"</span>\n</pre>\n"
     },
     "metadata": {},
     "output_type": "display_data"
    },
    {
     "data": {
      "text/plain": "┏━━━━━━━━━━━━━━━━━━━━━━━━━━━━━━━━━┳━━━━━━━━━━━━━━━━━━━━━━━━┳━━━━━━━━━━━━━━━┓\n┃\u001B[1m \u001B[0m\u001B[1mLayer (type)                   \u001B[0m\u001B[1m \u001B[0m┃\u001B[1m \u001B[0m\u001B[1mOutput Shape          \u001B[0m\u001B[1m \u001B[0m┃\u001B[1m \u001B[0m\u001B[1m      Param #\u001B[0m\u001B[1m \u001B[0m┃\n┡━━━━━━━━━━━━━━━━━━━━━━━━━━━━━━━━━╇━━━━━━━━━━━━━━━━━━━━━━━━╇━━━━━━━━━━━━━━━┩\n│ lstm_2 (\u001B[38;5;33mLSTM\u001B[0m)                   │ (\u001B[38;5;45mNone\u001B[0m, \u001B[38;5;34m64\u001B[0m)             │        \u001B[38;5;34m16,896\u001B[0m │\n├─────────────────────────────────┼────────────────────────┼───────────────┤\n│ batch_normalization_2           │ (\u001B[38;5;45mNone\u001B[0m, \u001B[38;5;34m64\u001B[0m)             │           \u001B[38;5;34m256\u001B[0m │\n│ (\u001B[38;5;33mBatchNormalization\u001B[0m)            │                        │               │\n├─────────────────────────────────┼────────────────────────┼───────────────┤\n│ dense_2 (\u001B[38;5;33mDense\u001B[0m)                 │ (\u001B[38;5;45mNone\u001B[0m, \u001B[38;5;34m2\u001B[0m)              │           \u001B[38;5;34m130\u001B[0m │\n└─────────────────────────────────┴────────────────────────┴───────────────┘\n",
      "text/html": "<pre style=\"white-space:pre;overflow-x:auto;line-height:normal;font-family:Menlo,'DejaVu Sans Mono',consolas,'Courier New',monospace\">┏━━━━━━━━━━━━━━━━━━━━━━━━━━━━━━━━━┳━━━━━━━━━━━━━━━━━━━━━━━━┳━━━━━━━━━━━━━━━┓\n┃<span style=\"font-weight: bold\"> Layer (type)                    </span>┃<span style=\"font-weight: bold\"> Output Shape           </span>┃<span style=\"font-weight: bold\">       Param # </span>┃\n┡━━━━━━━━━━━━━━━━━━━━━━━━━━━━━━━━━╇━━━━━━━━━━━━━━━━━━━━━━━━╇━━━━━━━━━━━━━━━┩\n│ lstm_2 (<span style=\"color: #0087ff; text-decoration-color: #0087ff\">LSTM</span>)                   │ (<span style=\"color: #00d7ff; text-decoration-color: #00d7ff\">None</span>, <span style=\"color: #00af00; text-decoration-color: #00af00\">64</span>)             │        <span style=\"color: #00af00; text-decoration-color: #00af00\">16,896</span> │\n├─────────────────────────────────┼────────────────────────┼───────────────┤\n│ batch_normalization_2           │ (<span style=\"color: #00d7ff; text-decoration-color: #00d7ff\">None</span>, <span style=\"color: #00af00; text-decoration-color: #00af00\">64</span>)             │           <span style=\"color: #00af00; text-decoration-color: #00af00\">256</span> │\n│ (<span style=\"color: #0087ff; text-decoration-color: #0087ff\">BatchNormalization</span>)            │                        │               │\n├─────────────────────────────────┼────────────────────────┼───────────────┤\n│ dense_2 (<span style=\"color: #0087ff; text-decoration-color: #0087ff\">Dense</span>)                 │ (<span style=\"color: #00d7ff; text-decoration-color: #00d7ff\">None</span>, <span style=\"color: #00af00; text-decoration-color: #00af00\">2</span>)              │           <span style=\"color: #00af00; text-decoration-color: #00af00\">130</span> │\n└─────────────────────────────────┴────────────────────────┴───────────────┘\n</pre>\n"
     },
     "metadata": {},
     "output_type": "display_data"
    },
    {
     "data": {
      "text/plain": "\u001B[1m Total params: \u001B[0m\u001B[38;5;34m17,282\u001B[0m (67.51 KB)\n",
      "text/html": "<pre style=\"white-space:pre;overflow-x:auto;line-height:normal;font-family:Menlo,'DejaVu Sans Mono',consolas,'Courier New',monospace\"><span style=\"font-weight: bold\"> Total params: </span><span style=\"color: #00af00; text-decoration-color: #00af00\">17,282</span> (67.51 KB)\n</pre>\n"
     },
     "metadata": {},
     "output_type": "display_data"
    },
    {
     "data": {
      "text/plain": "\u001B[1m Trainable params: \u001B[0m\u001B[38;5;34m17,154\u001B[0m (67.01 KB)\n",
      "text/html": "<pre style=\"white-space:pre;overflow-x:auto;line-height:normal;font-family:Menlo,'DejaVu Sans Mono',consolas,'Courier New',monospace\"><span style=\"font-weight: bold\"> Trainable params: </span><span style=\"color: #00af00; text-decoration-color: #00af00\">17,154</span> (67.01 KB)\n</pre>\n"
     },
     "metadata": {},
     "output_type": "display_data"
    },
    {
     "data": {
      "text/plain": "\u001B[1m Non-trainable params: \u001B[0m\u001B[38;5;34m128\u001B[0m (512.00 B)\n",
      "text/html": "<pre style=\"white-space:pre;overflow-x:auto;line-height:normal;font-family:Menlo,'DejaVu Sans Mono',consolas,'Courier New',monospace\"><span style=\"font-weight: bold\"> Non-trainable params: </span><span style=\"color: #00af00; text-decoration-color: #00af00\">128</span> (512.00 B)\n</pre>\n"
     },
     "metadata": {},
     "output_type": "display_data"
    }
   ],
   "source": [
    "\n",
    "\n",
    "import tensorflow.keras.backend as K\n",
    "\n",
    "model = build_model(allow_cudnn_kernel=True)\n",
    "\n",
    "# def focal_loss(gamma=2., alpha=[0.25, 0.25, 0.5]):\n",
    "#     def focal_loss_fixed(y_true, y_pred):\n",
    "#         y_pred = K.clip(y_pred, K.epsilon(), 1. - K.epsilon())\n",
    "#         loss = -y_true * K.log(y_pred) * K.pow(1 - y_pred, gamma)\n",
    "#         alpha_factor = tf.convert_to_tensor(alpha, dtype=tf.float32)\n",
    "#         loss *= alpha_factor\n",
    "#         return K.sum(loss, axis=1)\n",
    "#     return focal_loss_fixed\n",
    "\n",
    "model.compile(\n",
    "    loss=keras.losses.CategoricalCrossentropy(from_logits=False),\n",
    "    optimizer=\"Adam\",\n",
    "    metrics=[\"categorical_accuracy\"]\n",
    ")\n",
    "\n",
    "model.summary()"
   ]
  },
  {
   "cell_type": "code",
   "execution_count": 31,
   "metadata": {
    "ExecuteTime": {
     "end_time": "2025-04-18T16:45:28.020047900Z",
     "start_time": "2025-04-18T16:45:10.542685500Z"
    }
   },
   "outputs": [
    {
     "name": "stdout",
     "output_type": "stream",
     "text": [
      "Epoch 1/20\n",
      "\u001B[1m70/70\u001B[0m \u001B[32m━━━━━━━━━━━━━━━━━━━━\u001B[0m\u001B[37m\u001B[0m \u001B[1m3s\u001B[0m 14ms/step - categorical_accuracy: 0.6329 - loss: 0.6551 - val_categorical_accuracy: 0.5162 - val_loss: 0.6912\n",
      "Epoch 2/20\n",
      "\u001B[1m70/70\u001B[0m \u001B[32m━━━━━━━━━━━━━━━━━━━━\u001B[0m\u001B[37m\u001B[0m \u001B[1m1s\u001B[0m 11ms/step - categorical_accuracy: 0.6400 - loss: 0.6332 - val_categorical_accuracy: 0.5688 - val_loss: 0.6827\n",
      "Epoch 3/20\n",
      "\u001B[1m70/70\u001B[0m \u001B[32m━━━━━━━━━━━━━━━━━━━━\u001B[0m\u001B[37m\u001B[0m \u001B[1m1s\u001B[0m 10ms/step - categorical_accuracy: 0.6495 - loss: 0.6316 - val_categorical_accuracy: 0.5607 - val_loss: 0.6814\n",
      "Epoch 4/20\n",
      "\u001B[1m70/70\u001B[0m \u001B[32m━━━━━━━━━━━━━━━━━━━━\u001B[0m\u001B[37m\u001B[0m \u001B[1m1s\u001B[0m 11ms/step - categorical_accuracy: 0.6453 - loss: 0.6289 - val_categorical_accuracy: 0.5870 - val_loss: 0.6839\n",
      "Epoch 5/20\n",
      "\u001B[1m70/70\u001B[0m \u001B[32m━━━━━━━━━━━━━━━━━━━━\u001B[0m\u001B[37m\u001B[0m \u001B[1m1s\u001B[0m 10ms/step - categorical_accuracy: 0.6460 - loss: 0.6345 - val_categorical_accuracy: 0.6053 - val_loss: 0.6742\n",
      "Epoch 6/20\n",
      "\u001B[1m70/70\u001B[0m \u001B[32m━━━━━━━━━━━━━━━━━━━━\u001B[0m\u001B[37m\u001B[0m \u001B[1m1s\u001B[0m 10ms/step - categorical_accuracy: 0.6504 - loss: 0.6206 - val_categorical_accuracy: 0.5870 - val_loss: 0.6614\n",
      "Epoch 7/20\n",
      "\u001B[1m70/70\u001B[0m \u001B[32m━━━━━━━━━━━━━━━━━━━━\u001B[0m\u001B[37m\u001B[0m \u001B[1m1s\u001B[0m 10ms/step - categorical_accuracy: 0.6528 - loss: 0.6214 - val_categorical_accuracy: 0.5607 - val_loss: 0.6950\n",
      "Epoch 8/20\n",
      "\u001B[1m70/70\u001B[0m \u001B[32m━━━━━━━━━━━━━━━━━━━━\u001B[0m\u001B[37m\u001B[0m \u001B[1m1s\u001B[0m 10ms/step - categorical_accuracy: 0.6438 - loss: 0.6215 - val_categorical_accuracy: 0.5951 - val_loss: 0.6688\n",
      "Epoch 9/20\n",
      "\u001B[1m70/70\u001B[0m \u001B[32m━━━━━━━━━━━━━━━━━━━━\u001B[0m\u001B[37m\u001B[0m \u001B[1m1s\u001B[0m 10ms/step - categorical_accuracy: 0.6665 - loss: 0.6167 - val_categorical_accuracy: 0.5911 - val_loss: 0.6552\n",
      "Epoch 10/20\n",
      "\u001B[1m70/70\u001B[0m \u001B[32m━━━━━━━━━━━━━━━━━━━━\u001B[0m\u001B[37m\u001B[0m \u001B[1m1s\u001B[0m 10ms/step - categorical_accuracy: 0.6534 - loss: 0.6207 - val_categorical_accuracy: 0.6437 - val_loss: 0.6472\n",
      "Epoch 11/20\n",
      "\u001B[1m70/70\u001B[0m \u001B[32m━━━━━━━━━━━━━━━━━━━━\u001B[0m\u001B[37m\u001B[0m \u001B[1m1s\u001B[0m 11ms/step - categorical_accuracy: 0.6595 - loss: 0.6137 - val_categorical_accuracy: 0.6660 - val_loss: 0.6277\n",
      "Epoch 12/20\n",
      "\u001B[1m70/70\u001B[0m \u001B[32m━━━━━━━━━━━━━━━━━━━━\u001B[0m\u001B[37m\u001B[0m \u001B[1m1s\u001B[0m 10ms/step - categorical_accuracy: 0.6657 - loss: 0.6162 - val_categorical_accuracy: 0.6215 - val_loss: 0.6435\n",
      "Epoch 13/20\n",
      "\u001B[1m70/70\u001B[0m \u001B[32m━━━━━━━━━━━━━━━━━━━━\u001B[0m\u001B[37m\u001B[0m \u001B[1m1s\u001B[0m 11ms/step - categorical_accuracy: 0.6583 - loss: 0.6188 - val_categorical_accuracy: 0.5709 - val_loss: 0.7489\n",
      "Epoch 14/20\n",
      "\u001B[1m70/70\u001B[0m \u001B[32m━━━━━━━━━━━━━━━━━━━━\u001B[0m\u001B[37m\u001B[0m \u001B[1m1s\u001B[0m 11ms/step - categorical_accuracy: 0.6694 - loss: 0.6033 - val_categorical_accuracy: 0.6417 - val_loss: 0.6535\n",
      "Epoch 15/20\n",
      "\u001B[1m70/70\u001B[0m \u001B[32m━━━━━━━━━━━━━━━━━━━━\u001B[0m\u001B[37m\u001B[0m \u001B[1m1s\u001B[0m 11ms/step - categorical_accuracy: 0.6698 - loss: 0.5996 - val_categorical_accuracy: 0.6093 - val_loss: 0.6765\n",
      "Epoch 16/20\n",
      "\u001B[1m70/70\u001B[0m \u001B[32m━━━━━━━━━━━━━━━━━━━━\u001B[0m\u001B[37m\u001B[0m \u001B[1m1s\u001B[0m 10ms/step - categorical_accuracy: 0.6708 - loss: 0.6142 - val_categorical_accuracy: 0.6700 - val_loss: 0.6168\n",
      "Epoch 17/20\n",
      "\u001B[1m70/70\u001B[0m \u001B[32m━━━━━━━━━━━━━━━━━━━━\u001B[0m\u001B[37m\u001B[0m \u001B[1m1s\u001B[0m 11ms/step - categorical_accuracy: 0.6717 - loss: 0.6094 - val_categorical_accuracy: 0.6417 - val_loss: 0.6800\n",
      "Epoch 18/20\n",
      "\u001B[1m70/70\u001B[0m \u001B[32m━━━━━━━━━━━━━━━━━━━━\u001B[0m\u001B[37m\u001B[0m \u001B[1m1s\u001B[0m 10ms/step - categorical_accuracy: 0.6689 - loss: 0.6160 - val_categorical_accuracy: 0.5688 - val_loss: 0.7886\n",
      "Epoch 19/20\n",
      "\u001B[1m70/70\u001B[0m \u001B[32m━━━━━━━━━━━━━━━━━━━━\u001B[0m\u001B[37m\u001B[0m \u001B[1m1s\u001B[0m 11ms/step - categorical_accuracy: 0.6587 - loss: 0.6113 - val_categorical_accuracy: 0.6457 - val_loss: 0.6264\n",
      "Epoch 20/20\n",
      "\u001B[1m70/70\u001B[0m \u001B[32m━━━━━━━━━━━━━━━━━━━━\u001B[0m\u001B[37m\u001B[0m \u001B[1m1s\u001B[0m 10ms/step - categorical_accuracy: 0.6605 - loss: 0.6115 - val_categorical_accuracy: 0.6275 - val_loss: 0.6450\n"
     ]
    },
    {
     "data": {
      "text/plain": "<keras.src.callbacks.history.History at 0x1c09c5448f0>"
     },
     "execution_count": 31,
     "metadata": {},
     "output_type": "execute_result"
    }
   ],
   "source": [
    "\n",
    "model.fit(\n",
    "    x_train, y_train,\n",
    "    validation_split=0.1,  # 可选，用于验证集\n",
    "    epochs=20,\n",
    "    batch_size=batch_size,\n",
    "    # callbacks=[keras.callbacks.EarlyStopping(patience=5, restore_best_weights=True)]\n",
    ")"
   ]
  },
  {
   "cell_type": "code",
   "outputs": [],
   "source": [
    "model.save('models/lstm_model.keras')  # ✅ 推荐：使用 .keras 后缀\n"
   ],
   "metadata": {
    "collapsed": false,
    "ExecuteTime": {
     "end_time": "2025-04-18T16:46:53.332540900Z",
     "start_time": "2025-04-18T16:46:53.263478700Z"
    }
   },
   "execution_count": 33
  },
  {
   "cell_type": "markdown",
   "source": [],
   "metadata": {
    "collapsed": false
   }
  },
  {
   "cell_type": "code",
   "outputs": [],
   "source": [
    "model1 = keras.models.load_model('lstm_model.keras')"
   ],
   "metadata": {
    "collapsed": false,
    "ExecuteTime": {
     "end_time": "2025-04-18T16:27:23.130683900Z",
     "start_time": "2025-04-18T16:27:23.022971600Z"
    }
   },
   "execution_count": 23
  },
  {
   "cell_type": "code",
   "outputs": [
    {
     "name": "stdout",
     "output_type": "stream",
     "text": [
      "\u001B[1m12/12\u001B[0m \u001B[32m━━━━━━━━━━━━━━━━━━━━\u001B[0m\u001B[37m\u001B[0m \u001B[1m0s\u001B[0m 20ms/step\n",
      "Test Accuracy: 65.79%\n",
      "\n",
      "Classification Report:\n",
      "              precision    recall  f1-score   support\n",
      "\n",
      "           0       0.61      0.73      0.66       175\n",
      "           1       0.72      0.60      0.65       205\n",
      "\n",
      "    accuracy                           0.66       380\n",
      "   macro avg       0.66      0.66      0.66       380\n",
      "weighted avg       0.67      0.66      0.66       380\n"
     ]
    },
    {
     "data": {
      "text/plain": "<Figure size 600x500 with 2 Axes>",
      "image/png": "[encoded data removed]"
     },
     "metadata": {},
     "output_type": "display_data"
    }
   ],
   "source": [
    "from sklearn.metrics import accuracy_score, classification_report, confusion_matrix\n",
    "import numpy as np\n",
    "import matplotlib.pyplot as plt\n",
    "import seaborn as sns\n",
    "\n",
    "# 预测结果（如果是 one-hot 编码，取 argmax）\n",
    "y_pred_probs = model1.predict(x_test)\n",
    "if y_pred_probs.shape[1] > 1:\n",
    "    y_pred = np.argmax(y_pred_probs, axis=1)\n",
    "    y_true = np.argmax(y_test, axis=1)\n",
    "else:\n",
    "    y_pred = (y_pred_probs > 0.5).astype(\"int32\").flatten()\n",
    "    y_true = y_test.flatten()\n",
    "\n",
    "# 1. Test Accuracy\n",
    "acc = accuracy_score(y_true, y_pred)\n",
    "print(\"Test Accuracy: {:.2f}%\".format(acc * 100))\n",
    "\n",
    "# 2. Classification Report\n",
    "print(\"\\nClassification Report:\")\n",
    "print(classification_report(y_true, y_pred))\n",
    "\n",
    "# 3. 混淆矩阵\n",
    "cm = confusion_matrix(y_true, y_pred)\n",
    "\n",
    "# 4. 可视化混淆矩阵\n",
    "plt.figure(figsize=(6, 5))\n",
    "sns.heatmap(cm, annot=True, fmt='d', cmap='Blues', xticklabels=[0, 1, 2], yticklabels=[0, 1, 2])\n",
    "plt.xlabel('Predicted Label')\n",
    "plt.ylabel('True Label')\n",
    "plt.title('Confusion Matrix')\n",
    "plt.tight_layout()\n",
    "plt.show()"
   ],
   "metadata": {
    "collapsed": false,
    "ExecuteTime": {
     "end_time": "2025-04-18T16:27:25.220529500Z",
     "start_time": "2025-04-18T16:27:24.554880300Z"
    }
   },
   "execution_count": 24
  },
  {
   "cell_type": "code",
   "outputs": [
    {
     "name": "stdout",
     "output_type": "stream",
     "text": [
      "\u001B[1m12/12\u001B[0m \u001B[32m━━━━━━━━━━━━━━━━━━━━\u001B[0m\u001B[37m\u001B[0m \u001B[1m0s\u001B[0m 5ms/step \n",
      "Test Accuracy: 59.21%\n",
      "\n",
      "Classification Report:\n",
      "              precision    recall  f1-score   support\n",
      "\n",
      "           0       0.54      0.86      0.66       175\n",
      "           1       0.76      0.36      0.49       205\n",
      "\n",
      "    accuracy                           0.59       380\n",
      "   macro avg       0.65      0.61      0.57       380\n",
      "weighted avg       0.65      0.59      0.57       380\n"
     ]
    },
    {
     "data": {
      "text/plain": "<Figure size 600x500 with 2 Axes>",
      "image/png": "[encoded data removed]"
     },
     "metadata": {},
     "output_type": "display_data"
    }
   ],
   "source": [
    "from sklearn.metrics import accuracy_score, classification_report, confusion_matrix\n",
    "import numpy as np\n",
    "import matplotlib.pyplot as plt\n",
    "import seaborn as sns\n",
    "\n",
    "# 预测结果（如果是 one-hot 编码，取 argmax）\n",
    "y_pred_probs = model.predict(x_test)\n",
    "if y_pred_probs.shape[1] > 1:\n",
    "    y_pred = np.argmax(y_pred_probs, axis=1)\n",
    "    y_true = np.argmax(y_test, axis=1)\n",
    "else:\n",
    "    y_pred = (y_pred_probs > 0.5).astype(\"int32\").flatten()\n",
    "    y_true = y_test.flatten()\n",
    "\n",
    "# 1. Test Accuracy\n",
    "acc = accuracy_score(y_true, y_pred)\n",
    "print(\"Test Accuracy: {:.2f}%\".format(acc * 100))\n",
    "\n",
    "# 2. Classification Report\n",
    "print(\"\\nClassification Report:\")\n",
    "print(classification_report(y_true, y_pred))\n",
    "\n",
    "# 3. 混淆矩阵\n",
    "cm = confusion_matrix(y_true, y_pred)\n",
    "\n",
    "# 4. 可视化混淆矩阵\n",
    "plt.figure(figsize=(6, 5))\n",
    "sns.heatmap(cm, annot=True, fmt='d', cmap='Blues', xticklabels=[0, 1, 2], yticklabels=[0, 1, 2])\n",
    "plt.xlabel('Predicted Label')\n",
    "plt.ylabel('True Label')\n",
    "plt.title('Confusion Matrix')\n",
    "plt.tight_layout()\n",
    "plt.show()"
   ],
   "metadata": {
    "collapsed": false,
    "ExecuteTime": {
     "end_time": "2025-04-15T13:26:03.163418Z",
     "start_time": "2025-04-15T13:26:02.850196700Z"
    }
   },
   "execution_count": 20
  }
 ],
 "metadata": {
  "kernelspec": {
   "display_name": "Python 3.10.2 ('env': venv)",
   "language": "python",
   "name": "python3"
  },
  "language_info": {
   "codemirror_mode": {
    "name": "ipython",
    "version": 3
   },
   "file_extension": ".py",
   "mimetype": "text/x-python",
   "name": "python",
   "nbconvert_exporter": "python",
   "pygments_lexer": "ipython3",
   "version": "3.10.2"
  },
  "orig_nbformat": 2,
  "vscode": {
   "interpreter": {
    "hash": "c3626ccfd00731304f82403bb91d6453b216e3c6549bede09f619f7bcb05d1c7"
   }
  }
 },
 "nbformat": 4,
 "nbformat_minor": 2
}
