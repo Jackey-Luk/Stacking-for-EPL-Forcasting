{
 "cells": [
  {
   "cell_type": "code",
   "execution_count": 4,
   "id": "initial_id",
   "metadata": {
    "collapsed": true,
    "ExecuteTime": {
     "end_time": "2025-04-18T16:48:24.792838300Z",
     "start_time": "2025-04-18T16:48:24.546983700Z"
    }
   },
   "outputs": [
    {
     "name": "stdout",
     "output_type": "stream",
     "text": [
      "[LightGBM] [Info] Auto-choosing row-wise multi-threading, the overhead of testing was 0.000389 seconds.\n",
      "You can set `force_row_wise=true` to remove the overhead.\n",
      "And if memory is not enough, you can set `force_col_wise=true`.\n",
      "[LightGBM] [Info] Total Bins 2193\n",
      "[LightGBM] [Info] Number of data points in the train set: 4940, number of used features: 34\n",
      "[LightGBM] [Info] Start training from score -0.792230\n",
      "[LightGBM] [Info] Start training from score -0.603003\n",
      "✅ Accuracy: 0.6605\n",
      "📊 Classification Report:\n",
      "              precision    recall  f1-score   support\n",
      "\n",
      "           0       0.64      0.61      0.62       175\n",
      "           1       0.68      0.70      0.69       205\n",
      "\n",
      "    accuracy                           0.66       380\n",
      "   macro avg       0.66      0.66      0.66       380\n",
      "weighted avg       0.66      0.66      0.66       380\n"
     ]
    }
   ],
   "source": [
    "import joblib\n",
    "import pandas as pd\n",
    "import numpy as np\n",
    "import lightgbm as lgb\n",
    "from sklearn.metrics import accuracy_score, classification_report\n",
    "import warnings\n",
    "warnings.filterwarnings(\"ignore\")\n",
    "\n",
    "dataTrain=pd.read_csv(\"allAtt_onehot_large_train_new8.csv\")\n",
    "dataTest=pd.read_csv(\"allAtt_onehot_large_test_new8.csv\")\n",
    "# 假设数据已经准备好\n",
    "x_train, y_train = dataTrain.iloc[:,4:38].values,dataTrain.iloc[:,38:].values\n",
    "x_test, y_test = dataTest.iloc[:,4:38].values,dataTest.iloc[:,38:].values\n",
    "\n",
    "# 如果 y 是 one-hot 编码，转换为整数标签\n",
    "y_train_int = np.argmax(y_train, axis=1)\n",
    "y_test_int = np.argmax(y_test, axis=1)\n",
    "\n",
    "# 创建 LightGBM 三分类模型\n",
    "model = lgb.LGBMClassifier(\n",
    "    objective='multiclass',\n",
    "    num_class=2,\n",
    "    metric='multi_logloss',\n",
    "    random_state=42\n",
    ")\n",
    "\n",
    "# 模型训练\n",
    "model.fit(x_train, y_train_int)\n",
    "\n",
    "# 模型预测\n",
    "y_pred = model.predict(x_test)\n",
    "\n",
    "# 模型评估\n",
    "acc = accuracy_score(y_test_int, y_pred)\n",
    "print(f\"✅ Accuracy: {acc:.4f}\")\n",
    "print(\"📊 Classification Report:\")\n",
    "print(classification_report(y_test_int, y_pred))"
   ]
  },
  {
   "cell_type": "code",
   "outputs": [
    {
     "data": {
      "text/plain": "['models/lightgbm_model.pkl']"
     },
     "execution_count": 5,
     "metadata": {},
     "output_type": "execute_result"
    }
   ],
   "source": [
    "joblib.dump(model, 'models/lightgbm_model.pkl')"
   ],
   "metadata": {
    "collapsed": false,
    "ExecuteTime": {
     "end_time": "2025-04-18T16:48:42.155999100Z",
     "start_time": "2025-04-18T16:48:42.131982400Z"
    }
   },
   "id": "afe816ce135fa23f",
   "execution_count": 5
  },
  {
   "cell_type": "code",
   "outputs": [],
   "source": [
    "model = joblib.load('models/lightgbm_model.pkl')"
   ],
   "metadata": {
    "collapsed": false,
    "ExecuteTime": {
     "end_time": "2025-04-18T16:49:01.368670100Z",
     "start_time": "2025-04-18T16:49:01.347066600Z"
    }
   },
   "id": "9362823d7fec5421",
   "execution_count": 7
  }
 ],
 "metadata": {
  "kernelspec": {
   "display_name": "Python 3",
   "language": "python",
   "name": "python3"
  },
  "language_info": {
   "codemirror_mode": {
    "name": "ipython",
    "version": 2
   },
   "file_extension": ".py",
   "mimetype": "text/x-python",
   "name": "python",
   "nbconvert_exporter": "python",
   "pygments_lexer": "ipython2",
   "version": "2.7.6"
  }
 },
 "nbformat": 4,
 "nbformat_minor": 5
}
