{
 "cells": [
  {
   "cell_type": "code",
   "execution_count": 1,
   "metadata": {
    "ExecuteTime": {
     "end_time": "2025-04-15T13:14:00.588639100Z",
     "start_time": "2025-04-15T13:14:00.500952900Z"
    }
   },
   "outputs": [],
   "source": [
    "import pandas as pd\n",
    "from sklearn.preprocessing import OneHotEncoder\n",
    "from sklearn.preprocessing import LabelEncoder\n"
   ]
  },
  {
   "cell_type": "code",
   "execution_count": 2,
   "metadata": {
    "ExecuteTime": {
     "end_time": "2025-04-15T13:14:03.526762200Z",
     "start_time": "2025-04-15T13:14:03.429621300Z"
    }
   },
   "outputs": [
    {
     "data": {
      "text/plain": "         Date     HomeTeam       AwayTeam FTR   VCH  B365H  HTGS  ATGS  HTGC  \\\n0  2023-08-11      Burnley       Man City  NH  9.50   8.00   0.0   0.0   0.0   \n1  2023-08-12      Arsenal  Nott'm Forest   H  1.14   1.18   0.0   0.0   0.0   \n2  2023-08-12  Bournemouth       West Ham  NH  2.63   2.70   0.0   0.0   0.0   \n3  2023-08-12     Brighton          Luton   H  1.29   1.33   0.0   0.0   0.0   \n4  2023-08-12      Everton         Fulham  NH  2.20   2.20   0.0   0.0   0.0   \n\n   ATGC  ...  HTGD  ATGD DiffPts DiffFormPts DiffLP H2HM1 H2HM2 H2HM3 H2HM4  \\\n0   0.0  ...   0.0   0.0     0.0         0.0   17.0     1     0     1     0   \n1   0.0  ...   0.0   0.0     0.0         0.0  -14.0     0     2    -1    -1   \n2   0.0  ...   0.0   0.0     0.0         0.0    1.0     1     0     0     1   \n3   0.0  ...   0.0   0.0     0.0         0.0  -12.0    -1    -1    -1    -1   \n4   0.0  ...   0.0   0.0     0.0         0.0    7.0     1     1     1     1   \n\n  H2HM5  \n0     0  \n1    -1  \n2     2  \n3    -1  \n4     0  \n\n[5 rows x 40 columns]",
      "text/html": "<div>\n<style scoped>\n    .dataframe tbody tr th:only-of-type {\n        vertical-align: middle;\n    }\n\n    .dataframe tbody tr th {\n        vertical-align: top;\n    }\n\n    .dataframe thead th {\n        text-align: right;\n    }\n</style>\n<table border=\"1\" class=\"dataframe\">\n  <thead>\n    <tr style=\"text-align: right;\">\n      <th></th>\n      <th>Date</th>\n      <th>HomeTeam</th>\n      <th>AwayTeam</th>\n      <th>FTR</th>\n      <th>VCH</th>\n      <th>B365H</th>\n      <th>HTGS</th>\n      <th>ATGS</th>\n      <th>HTGC</th>\n      <th>ATGC</th>\n      <th>...</th>\n      <th>HTGD</th>\n      <th>ATGD</th>\n      <th>DiffPts</th>\n      <th>DiffFormPts</th>\n      <th>DiffLP</th>\n      <th>H2HM1</th>\n      <th>H2HM2</th>\n      <th>H2HM3</th>\n      <th>H2HM4</th>\n      <th>H2HM5</th>\n    </tr>\n  </thead>\n  <tbody>\n    <tr>\n      <th>0</th>\n      <td>2023-08-11</td>\n      <td>Burnley</td>\n      <td>Man City</td>\n      <td>NH</td>\n      <td>9.50</td>\n      <td>8.00</td>\n      <td>0.0</td>\n      <td>0.0</td>\n      <td>0.0</td>\n      <td>0.0</td>\n      <td>...</td>\n      <td>0.0</td>\n      <td>0.0</td>\n      <td>0.0</td>\n      <td>0.0</td>\n      <td>17.0</td>\n      <td>1</td>\n      <td>0</td>\n      <td>1</td>\n      <td>0</td>\n      <td>0</td>\n    </tr>\n    <tr>\n      <th>1</th>\n      <td>2023-08-12</td>\n      <td>Arsenal</td>\n      <td>Nott'm Forest</td>\n      <td>H</td>\n      <td>1.14</td>\n      <td>1.18</td>\n      <td>0.0</td>\n      <td>0.0</td>\n      <td>0.0</td>\n      <td>0.0</td>\n      <td>...</td>\n      <td>0.0</td>\n      <td>0.0</td>\n      <td>0.0</td>\n      <td>0.0</td>\n      <td>-14.0</td>\n      <td>0</td>\n      <td>2</td>\n      <td>-1</td>\n      <td>-1</td>\n      <td>-1</td>\n    </tr>\n    <tr>\n      <th>2</th>\n      <td>2023-08-12</td>\n      <td>Bournemouth</td>\n      <td>West Ham</td>\n      <td>NH</td>\n      <td>2.63</td>\n      <td>2.70</td>\n      <td>0.0</td>\n      <td>0.0</td>\n      <td>0.0</td>\n      <td>0.0</td>\n      <td>...</td>\n      <td>0.0</td>\n      <td>0.0</td>\n      <td>0.0</td>\n      <td>0.0</td>\n      <td>1.0</td>\n      <td>1</td>\n      <td>0</td>\n      <td>0</td>\n      <td>1</td>\n      <td>2</td>\n    </tr>\n    <tr>\n      <th>3</th>\n      <td>2023-08-12</td>\n      <td>Brighton</td>\n      <td>Luton</td>\n      <td>H</td>\n      <td>1.29</td>\n      <td>1.33</td>\n      <td>0.0</td>\n      <td>0.0</td>\n      <td>0.0</td>\n      <td>0.0</td>\n      <td>...</td>\n      <td>0.0</td>\n      <td>0.0</td>\n      <td>0.0</td>\n      <td>0.0</td>\n      <td>-12.0</td>\n      <td>-1</td>\n      <td>-1</td>\n      <td>-1</td>\n      <td>-1</td>\n      <td>-1</td>\n    </tr>\n    <tr>\n      <th>4</th>\n      <td>2023-08-12</td>\n      <td>Everton</td>\n      <td>Fulham</td>\n      <td>NH</td>\n      <td>2.20</td>\n      <td>2.20</td>\n      <td>0.0</td>\n      <td>0.0</td>\n      <td>0.0</td>\n      <td>0.0</td>\n      <td>...</td>\n      <td>0.0</td>\n      <td>0.0</td>\n      <td>0.0</td>\n      <td>0.0</td>\n      <td>7.0</td>\n      <td>1</td>\n      <td>1</td>\n      <td>1</td>\n      <td>1</td>\n      <td>0</td>\n    </tr>\n  </tbody>\n</table>\n<p>5 rows × 40 columns</p>\n</div>"
     },
     "execution_count": 2,
     "metadata": {},
     "output_type": "execute_result"
    }
   ],
   "source": [
    "data=pd.read_csv(\"datasets\\\\final_dataset_new8.csv\")\n",
    "dataT=pd.read_csv(\"datasets\\\\test_new8.csv\")\n",
    "data.head()\n",
    "dataT.head()"
   ]
  },
  {
   "cell_type": "code",
   "execution_count": 3,
   "metadata": {
    "ExecuteTime": {
     "end_time": "2025-04-15T13:14:07.999304Z",
     "start_time": "2025-04-15T13:14:07.971277900Z"
    }
   },
   "outputs": [
    {
     "data": {
      "text/plain": "         Date     HomeTeam       AwayTeam  FTR   VCH  B365H  HTGS  ATGS  HTGC  \\\n0  2023-08-11      Burnley       Man City    1  9.50   8.00   0.0   0.0   0.0   \n1  2023-08-12      Arsenal  Nott'm Forest    0  1.14   1.18   0.0   0.0   0.0   \n2  2023-08-12  Bournemouth       West Ham    1  2.63   2.70   0.0   0.0   0.0   \n3  2023-08-12     Brighton          Luton    0  1.29   1.33   0.0   0.0   0.0   \n4  2023-08-12      Everton         Fulham    1  2.20   2.20   0.0   0.0   0.0   \n\n   ATGC  ...  HTGD  ATGD DiffPts DiffFormPts DiffLP H2HM1 H2HM2 H2HM3 H2HM4  \\\n0   0.0  ...   0.0   0.0     0.0         0.0   17.0     1     0     1     0   \n1   0.0  ...   0.0   0.0     0.0         0.0  -14.0     0     2    -1    -1   \n2   0.0  ...   0.0   0.0     0.0         0.0    1.0     1     0     0     1   \n3   0.0  ...   0.0   0.0     0.0         0.0  -12.0    -1    -1    -1    -1   \n4   0.0  ...   0.0   0.0     0.0         0.0    7.0     1     1     1     1   \n\n  H2HM5  \n0     0  \n1    -1  \n2     2  \n3    -1  \n4     0  \n\n[5 rows x 40 columns]",
      "text/html": "<div>\n<style scoped>\n    .dataframe tbody tr th:only-of-type {\n        vertical-align: middle;\n    }\n\n    .dataframe tbody tr th {\n        vertical-align: top;\n    }\n\n    .dataframe thead th {\n        text-align: right;\n    }\n</style>\n<table border=\"1\" class=\"dataframe\">\n  <thead>\n    <tr style=\"text-align: right;\">\n      <th></th>\n      <th>Date</th>\n      <th>HomeTeam</th>\n      <th>AwayTeam</th>\n      <th>FTR</th>\n      <th>VCH</th>\n      <th>B365H</th>\n      <th>HTGS</th>\n      <th>ATGS</th>\n      <th>HTGC</th>\n      <th>ATGC</th>\n      <th>...</th>\n      <th>HTGD</th>\n      <th>ATGD</th>\n      <th>DiffPts</th>\n      <th>DiffFormPts</th>\n      <th>DiffLP</th>\n      <th>H2HM1</th>\n      <th>H2HM2</th>\n      <th>H2HM3</th>\n      <th>H2HM4</th>\n      <th>H2HM5</th>\n    </tr>\n  </thead>\n  <tbody>\n    <tr>\n      <th>0</th>\n      <td>2023-08-11</td>\n      <td>Burnley</td>\n      <td>Man City</td>\n      <td>1</td>\n      <td>9.50</td>\n      <td>8.00</td>\n      <td>0.0</td>\n      <td>0.0</td>\n      <td>0.0</td>\n      <td>0.0</td>\n      <td>...</td>\n      <td>0.0</td>\n      <td>0.0</td>\n      <td>0.0</td>\n      <td>0.0</td>\n      <td>17.0</td>\n      <td>1</td>\n      <td>0</td>\n      <td>1</td>\n      <td>0</td>\n      <td>0</td>\n    </tr>\n    <tr>\n      <th>1</th>\n      <td>2023-08-12</td>\n      <td>Arsenal</td>\n      <td>Nott'm Forest</td>\n      <td>0</td>\n      <td>1.14</td>\n      <td>1.18</td>\n      <td>0.0</td>\n      <td>0.0</td>\n      <td>0.0</td>\n      <td>0.0</td>\n      <td>...</td>\n      <td>0.0</td>\n      <td>0.0</td>\n      <td>0.0</td>\n      <td>0.0</td>\n      <td>-14.0</td>\n      <td>0</td>\n      <td>2</td>\n      <td>-1</td>\n      <td>-1</td>\n      <td>-1</td>\n    </tr>\n    <tr>\n      <th>2</th>\n      <td>2023-08-12</td>\n      <td>Bournemouth</td>\n      <td>West Ham</td>\n      <td>1</td>\n      <td>2.63</td>\n      <td>2.70</td>\n      <td>0.0</td>\n      <td>0.0</td>\n      <td>0.0</td>\n      <td>0.0</td>\n      <td>...</td>\n      <td>0.0</td>\n      <td>0.0</td>\n      <td>0.0</td>\n      <td>0.0</td>\n      <td>1.0</td>\n      <td>1</td>\n      <td>0</td>\n      <td>0</td>\n      <td>1</td>\n      <td>2</td>\n    </tr>\n    <tr>\n      <th>3</th>\n      <td>2023-08-12</td>\n      <td>Brighton</td>\n      <td>Luton</td>\n      <td>0</td>\n      <td>1.29</td>\n      <td>1.33</td>\n      <td>0.0</td>\n      <td>0.0</td>\n      <td>0.0</td>\n      <td>0.0</td>\n      <td>...</td>\n      <td>0.0</td>\n      <td>0.0</td>\n      <td>0.0</td>\n      <td>0.0</td>\n      <td>-12.0</td>\n      <td>-1</td>\n      <td>-1</td>\n      <td>-1</td>\n      <td>-1</td>\n      <td>-1</td>\n    </tr>\n    <tr>\n      <th>4</th>\n      <td>2023-08-12</td>\n      <td>Everton</td>\n      <td>Fulham</td>\n      <td>1</td>\n      <td>2.20</td>\n      <td>2.20</td>\n      <td>0.0</td>\n      <td>0.0</td>\n      <td>0.0</td>\n      <td>0.0</td>\n      <td>...</td>\n      <td>0.0</td>\n      <td>0.0</td>\n      <td>0.0</td>\n      <td>0.0</td>\n      <td>7.0</td>\n      <td>1</td>\n      <td>1</td>\n      <td>1</td>\n      <td>1</td>\n      <td>0</td>\n    </tr>\n  </tbody>\n</table>\n<p>5 rows × 40 columns</p>\n</div>"
     },
     "execution_count": 3,
     "metadata": {},
     "output_type": "execute_result"
    }
   ],
   "source": [
    "ftrLE=LabelEncoder()\n",
    "data.FTR=ftrLE.fit_transform(data.FTR)\n",
    "dataT.FTR=ftrLE.transform(dataT.FTR)\n",
    "dataT.head()"
   ]
  },
  {
   "cell_type": "code",
   "execution_count": 4,
   "metadata": {
    "ExecuteTime": {
     "end_time": "2025-04-15T13:14:11.144863500Z",
     "start_time": "2025-04-15T13:14:11.123368900Z"
    }
   },
   "outputs": [
    {
     "data": {
      "text/plain": "         Date     HomeTeam       AwayTeam  FTR   VCH  B365H  HTGS  ATGS  HTGC  \\\n0  2023-08-11      Burnley       Man City    1  9.50   8.00   0.0   0.0   0.0   \n1  2023-08-12      Arsenal  Nott'm Forest    0  1.14   1.18   0.0   0.0   0.0   \n2  2023-08-12  Bournemouth       West Ham    1  2.63   2.70   0.0   0.0   0.0   \n3  2023-08-12     Brighton          Luton    0  1.29   1.33   0.0   0.0   0.0   \n4  2023-08-12      Everton         Fulham    1  2.20   2.20   0.0   0.0   0.0   \n\n   ATGC  ...  HTGD  ATGD  DiffPts DiffFormPts DiffLP H2HM1 H2HM2 H2HM3 H2HM4  \\\n0   0.0  ...   0.0   0.0      0.0         0.0   17.0     1     0     1     0   \n1   0.0  ...   0.0   0.0      0.0         0.0  -14.0     0     2    -1    -1   \n2   0.0  ...   0.0   0.0      0.0         0.0    1.0     1     0     0     1   \n3   0.0  ...   0.0   0.0      0.0         0.0  -12.0    -1    -1    -1    -1   \n4   0.0  ...   0.0   0.0      0.0         0.0    7.0     1     1     1     1   \n\n  H2HM5  \n0     0  \n1    -1  \n2     2  \n3    -1  \n4     0  \n\n[5 rows x 40 columns]",
      "text/html": "<div>\n<style scoped>\n    .dataframe tbody tr th:only-of-type {\n        vertical-align: middle;\n    }\n\n    .dataframe tbody tr th {\n        vertical-align: top;\n    }\n\n    .dataframe thead th {\n        text-align: right;\n    }\n</style>\n<table border=\"1\" class=\"dataframe\">\n  <thead>\n    <tr style=\"text-align: right;\">\n      <th></th>\n      <th>Date</th>\n      <th>HomeTeam</th>\n      <th>AwayTeam</th>\n      <th>FTR</th>\n      <th>VCH</th>\n      <th>B365H</th>\n      <th>HTGS</th>\n      <th>ATGS</th>\n      <th>HTGC</th>\n      <th>ATGC</th>\n      <th>...</th>\n      <th>HTGD</th>\n      <th>ATGD</th>\n      <th>DiffPts</th>\n      <th>DiffFormPts</th>\n      <th>DiffLP</th>\n      <th>H2HM1</th>\n      <th>H2HM2</th>\n      <th>H2HM3</th>\n      <th>H2HM4</th>\n      <th>H2HM5</th>\n    </tr>\n  </thead>\n  <tbody>\n    <tr>\n      <th>0</th>\n      <td>2023-08-11</td>\n      <td>Burnley</td>\n      <td>Man City</td>\n      <td>1</td>\n      <td>9.50</td>\n      <td>8.00</td>\n      <td>0.0</td>\n      <td>0.0</td>\n      <td>0.0</td>\n      <td>0.0</td>\n      <td>...</td>\n      <td>0.0</td>\n      <td>0.0</td>\n      <td>0.0</td>\n      <td>0.0</td>\n      <td>17.0</td>\n      <td>1</td>\n      <td>0</td>\n      <td>1</td>\n      <td>0</td>\n      <td>0</td>\n    </tr>\n    <tr>\n      <th>1</th>\n      <td>2023-08-12</td>\n      <td>Arsenal</td>\n      <td>Nott'm Forest</td>\n      <td>0</td>\n      <td>1.14</td>\n      <td>1.18</td>\n      <td>0.0</td>\n      <td>0.0</td>\n      <td>0.0</td>\n      <td>0.0</td>\n      <td>...</td>\n      <td>0.0</td>\n      <td>0.0</td>\n      <td>0.0</td>\n      <td>0.0</td>\n      <td>-14.0</td>\n      <td>0</td>\n      <td>2</td>\n      <td>-1</td>\n      <td>-1</td>\n      <td>-1</td>\n    </tr>\n    <tr>\n      <th>2</th>\n      <td>2023-08-12</td>\n      <td>Bournemouth</td>\n      <td>West Ham</td>\n      <td>1</td>\n      <td>2.63</td>\n      <td>2.70</td>\n      <td>0.0</td>\n      <td>0.0</td>\n      <td>0.0</td>\n      <td>0.0</td>\n      <td>...</td>\n      <td>0.0</td>\n      <td>0.0</td>\n      <td>0.0</td>\n      <td>0.0</td>\n      <td>1.0</td>\n      <td>1</td>\n      <td>0</td>\n      <td>0</td>\n      <td>1</td>\n      <td>2</td>\n    </tr>\n    <tr>\n      <th>3</th>\n      <td>2023-08-12</td>\n      <td>Brighton</td>\n      <td>Luton</td>\n      <td>0</td>\n      <td>1.29</td>\n      <td>1.33</td>\n      <td>0.0</td>\n      <td>0.0</td>\n      <td>0.0</td>\n      <td>0.0</td>\n      <td>...</td>\n      <td>0.0</td>\n      <td>0.0</td>\n      <td>0.0</td>\n      <td>0.0</td>\n      <td>-12.0</td>\n      <td>-1</td>\n      <td>-1</td>\n      <td>-1</td>\n      <td>-1</td>\n      <td>-1</td>\n    </tr>\n    <tr>\n      <th>4</th>\n      <td>2023-08-12</td>\n      <td>Everton</td>\n      <td>Fulham</td>\n      <td>1</td>\n      <td>2.20</td>\n      <td>2.20</td>\n      <td>0.0</td>\n      <td>0.0</td>\n      <td>0.0</td>\n      <td>0.0</td>\n      <td>...</td>\n      <td>0.0</td>\n      <td>0.0</td>\n      <td>0.0</td>\n      <td>0.0</td>\n      <td>7.0</td>\n      <td>1</td>\n      <td>1</td>\n      <td>1</td>\n      <td>1</td>\n      <td>0</td>\n    </tr>\n  </tbody>\n</table>\n<p>5 rows × 40 columns</p>\n</div>"
     },
     "execution_count": 4,
     "metadata": {},
     "output_type": "execute_result"
    }
   ],
   "source": [
    "hmLE=LabelEncoder()\n",
    "data.HM1=hmLE.fit_transform(data.HM1)\n",
    "dataT.HM1=hmLE.fit_transform(dataT.HM1)\n",
    "dataT.head()"
   ]
  },
  {
   "cell_type": "code",
   "execution_count": 5,
   "metadata": {
    "ExecuteTime": {
     "end_time": "2025-04-15T13:14:13.347901900Z",
     "start_time": "2025-04-15T13:14:13.327055200Z"
    }
   },
   "outputs": [],
   "source": [
    "data.HM2=hmLE.fit_transform(data.HM2)\n",
    "data.HM3=hmLE.fit_transform(data.HM3)\n",
    "data.HM4=hmLE.fit_transform(data.HM4)\n",
    "data.HM5=hmLE.fit_transform(data.HM5)\n",
    "data.AM1=hmLE.fit_transform(data.AM1)\n",
    "data.AM2=hmLE.fit_transform(data.AM2)\n",
    "data.AM3=hmLE.fit_transform(data.AM3)\n",
    "data.AM4=hmLE.fit_transform(data.AM4)\n",
    "data.AM5=hmLE.fit_transform(data.AM5)\n",
    "\n",
    "dataT.HM2=hmLE.fit_transform(dataT.HM2)\n",
    "dataT.HM3=hmLE.fit_transform(dataT.HM3)\n",
    "dataT.HM4=hmLE.fit_transform(dataT.HM4)\n",
    "dataT.HM5=hmLE.fit_transform(dataT.HM5)\n",
    "dataT.AM1=hmLE.fit_transform(dataT.AM1)\n",
    "dataT.AM2=hmLE.fit_transform(dataT.AM2)\n",
    "dataT.AM3=hmLE.fit_transform(dataT.AM3)\n",
    "dataT.AM4=hmLE.fit_transform(dataT.AM4)\n",
    "dataT.AM5=hmLE.fit_transform(dataT.AM5)"
   ]
  },
  {
   "cell_type": "code",
   "execution_count": 6,
   "metadata": {
    "ExecuteTime": {
     "end_time": "2025-04-15T13:14:14.842479400Z",
     "start_time": "2025-04-15T13:14:14.830104700Z"
    }
   },
   "outputs": [
    {
     "data": {
      "text/plain": "         Date     HomeTeam    AwayTeam  FTR   VCH  B365H  HTGS  ATGS  HTGC  \\\n0  2010-08-14  Aston Villa    West Ham    0  2.00   2.00   0.0   0.0   0.0   \n1  2010-08-14    Blackburn     Everton    0  3.10   2.88   0.0   0.0   0.0   \n2  2010-08-14       Bolton      Fulham    1  2.20   2.20   0.0   0.0   0.0   \n3  2010-08-14      Chelsea   West Brom    0  1.17   1.17   0.0   0.0   0.0   \n4  2010-08-14   Sunderland  Birmingham    1  2.20   2.10   0.0   0.0   0.0   \n\n   ATGC  ...  HTGD  ATGD  DiffPts  DiffFormPts  DiffLP  H2HM1  H2HM2  H2HM3  \\\n0   0.0  ...   0.0   0.0      0.0          0.0   -11.0     -1     -1     -1   \n1   0.0  ...   0.0   0.0      0.0          0.0     2.0     -1     -1     -1   \n2   0.0  ...   0.0   0.0      0.0          0.0     2.0     -1     -1     -1   \n3   0.0  ...   0.0   0.0      0.0          0.0   -17.0     -1     -1     -1   \n4   0.0  ...   0.0   0.0      0.0          0.0     4.0     -1     -1     -1   \n\n   H2HM4  H2HM5  \n0     -1     -1  \n1     -1     -1  \n2     -1     -1  \n3     -1     -1  \n4     -1     -1  \n\n[5 rows x 40 columns]",
      "text/html": "<div>\n<style scoped>\n    .dataframe tbody tr th:only-of-type {\n        vertical-align: middle;\n    }\n\n    .dataframe tbody tr th {\n        vertical-align: top;\n    }\n\n    .dataframe thead th {\n        text-align: right;\n    }\n</style>\n<table border=\"1\" class=\"dataframe\">\n  <thead>\n    <tr style=\"text-align: right;\">\n      <th></th>\n      <th>Date</th>\n      <th>HomeTeam</th>\n      <th>AwayTeam</th>\n      <th>FTR</th>\n      <th>VCH</th>\n      <th>B365H</th>\n      <th>HTGS</th>\n      <th>ATGS</th>\n      <th>HTGC</th>\n      <th>ATGC</th>\n      <th>...</th>\n      <th>HTGD</th>\n      <th>ATGD</th>\n      <th>DiffPts</th>\n      <th>DiffFormPts</th>\n      <th>DiffLP</th>\n      <th>H2HM1</th>\n      <th>H2HM2</th>\n      <th>H2HM3</th>\n      <th>H2HM4</th>\n      <th>H2HM5</th>\n    </tr>\n  </thead>\n  <tbody>\n    <tr>\n      <th>0</th>\n      <td>2010-08-14</td>\n      <td>Aston Villa</td>\n      <td>West Ham</td>\n      <td>0</td>\n      <td>2.00</td>\n      <td>2.00</td>\n      <td>0.0</td>\n      <td>0.0</td>\n      <td>0.0</td>\n      <td>0.0</td>\n      <td>...</td>\n      <td>0.0</td>\n      <td>0.0</td>\n      <td>0.0</td>\n      <td>0.0</td>\n      <td>-11.0</td>\n      <td>-1</td>\n      <td>-1</td>\n      <td>-1</td>\n      <td>-1</td>\n      <td>-1</td>\n    </tr>\n    <tr>\n      <th>1</th>\n      <td>2010-08-14</td>\n      <td>Blackburn</td>\n      <td>Everton</td>\n      <td>0</td>\n      <td>3.10</td>\n      <td>2.88</td>\n      <td>0.0</td>\n      <td>0.0</td>\n      <td>0.0</td>\n      <td>0.0</td>\n      <td>...</td>\n      <td>0.0</td>\n      <td>0.0</td>\n      <td>0.0</td>\n      <td>0.0</td>\n      <td>2.0</td>\n      <td>-1</td>\n      <td>-1</td>\n      <td>-1</td>\n      <td>-1</td>\n      <td>-1</td>\n    </tr>\n    <tr>\n      <th>2</th>\n      <td>2010-08-14</td>\n      <td>Bolton</td>\n      <td>Fulham</td>\n      <td>1</td>\n      <td>2.20</td>\n      <td>2.20</td>\n      <td>0.0</td>\n      <td>0.0</td>\n      <td>0.0</td>\n      <td>0.0</td>\n      <td>...</td>\n      <td>0.0</td>\n      <td>0.0</td>\n      <td>0.0</td>\n      <td>0.0</td>\n      <td>2.0</td>\n      <td>-1</td>\n      <td>-1</td>\n      <td>-1</td>\n      <td>-1</td>\n      <td>-1</td>\n    </tr>\n    <tr>\n      <th>3</th>\n      <td>2010-08-14</td>\n      <td>Chelsea</td>\n      <td>West Brom</td>\n      <td>0</td>\n      <td>1.17</td>\n      <td>1.17</td>\n      <td>0.0</td>\n      <td>0.0</td>\n      <td>0.0</td>\n      <td>0.0</td>\n      <td>...</td>\n      <td>0.0</td>\n      <td>0.0</td>\n      <td>0.0</td>\n      <td>0.0</td>\n      <td>-17.0</td>\n      <td>-1</td>\n      <td>-1</td>\n      <td>-1</td>\n      <td>-1</td>\n      <td>-1</td>\n    </tr>\n    <tr>\n      <th>4</th>\n      <td>2010-08-14</td>\n      <td>Sunderland</td>\n      <td>Birmingham</td>\n      <td>1</td>\n      <td>2.20</td>\n      <td>2.10</td>\n      <td>0.0</td>\n      <td>0.0</td>\n      <td>0.0</td>\n      <td>0.0</td>\n      <td>...</td>\n      <td>0.0</td>\n      <td>0.0</td>\n      <td>0.0</td>\n      <td>0.0</td>\n      <td>4.0</td>\n      <td>-1</td>\n      <td>-1</td>\n      <td>-1</td>\n      <td>-1</td>\n      <td>-1</td>\n    </tr>\n  </tbody>\n</table>\n<p>5 rows × 40 columns</p>\n</div>"
     },
     "execution_count": 6,
     "metadata": {},
     "output_type": "execute_result"
    }
   ],
   "source": [
    "data.head()"
   ]
  },
  {
   "cell_type": "code",
   "execution_count": 7,
   "metadata": {
    "ExecuteTime": {
     "end_time": "2025-04-15T13:14:16.947616300Z",
     "start_time": "2025-04-15T13:14:16.926892400Z"
    }
   },
   "outputs": [
    {
     "name": "stdout",
     "output_type": "stream",
     "text": [
      "(4940, 40)\n",
      "(380, 40)\n"
     ]
    }
   ],
   "source": [
    "print(data.shape)\n",
    "print(dataT.shape)"
   ]
  },
  {
   "cell_type": "code",
   "execution_count": 8,
   "metadata": {
    "ExecuteTime": {
     "end_time": "2025-04-15T13:14:20.389900600Z",
     "start_time": "2025-04-15T13:14:20.382157Z"
    }
   },
   "outputs": [
    {
     "data": {
      "text/plain": "OneHotEncoder()",
      "text/html": "<style>#sk-container-id-1 {\n  /* Definition of color scheme common for light and dark mode */\n  --sklearn-color-text: black;\n  --sklearn-color-line: gray;\n  /* Definition of color scheme for unfitted estimators */\n  --sklearn-color-unfitted-level-0: #fff5e6;\n  --sklearn-color-unfitted-level-1: #f6e4d2;\n  --sklearn-color-unfitted-level-2: #ffe0b3;\n  --sklearn-color-unfitted-level-3: chocolate;\n  /* Definition of color scheme for fitted estimators */\n  --sklearn-color-fitted-level-0: #f0f8ff;\n  --sklearn-color-fitted-level-1: #d4ebff;\n  --sklearn-color-fitted-level-2: #b3dbfd;\n  --sklearn-color-fitted-level-3: cornflowerblue;\n\n  /* Specific color for light theme */\n  --sklearn-color-text-on-default-background: var(--sg-text-color, var(--theme-code-foreground, var(--jp-content-font-color1, black)));\n  --sklearn-color-background: var(--sg-background-color, var(--theme-background, var(--jp-layout-color0, white)));\n  --sklearn-color-border-box: var(--sg-text-color, var(--theme-code-foreground, var(--jp-content-font-color1, black)));\n  --sklearn-color-icon: #696969;\n\n  @media (prefers-color-scheme: dark) {\n    /* Redefinition of color scheme for dark theme */\n    --sklearn-color-text-on-default-background: var(--sg-text-color, var(--theme-code-foreground, var(--jp-content-font-color1, white)));\n    --sklearn-color-background: var(--sg-background-color, var(--theme-background, var(--jp-layout-color0, #111)));\n    --sklearn-color-border-box: var(--sg-text-color, var(--theme-code-foreground, var(--jp-content-font-color1, white)));\n    --sklearn-color-icon: #878787;\n  }\n}\n\n#sk-container-id-1 {\n  color: var(--sklearn-color-text);\n}\n\n#sk-container-id-1 pre {\n  padding: 0;\n}\n\n#sk-container-id-1 input.sk-hidden--visually {\n  border: 0;\n  clip: rect(1px 1px 1px 1px);\n  clip: rect(1px, 1px, 1px, 1px);\n  height: 1px;\n  margin: -1px;\n  overflow: hidden;\n  padding: 0;\n  position: absolute;\n  width: 1px;\n}\n\n#sk-container-id-1 div.sk-dashed-wrapped {\n  border: 1px dashed var(--sklearn-color-line);\n  margin: 0 0.4em 0.5em 0.4em;\n  box-sizing: border-box;\n  padding-bottom: 0.4em;\n  background-color: var(--sklearn-color-background);\n}\n\n#sk-container-id-1 div.sk-container {\n  /* jupyter's `normalize.less` sets `[hidden] { display: none; }`\n     but bootstrap.min.css set `[hidden] { display: none !important; }`\n     so we also need the `!important` here to be able to override the\n     default hidden behavior on the sphinx rendered scikit-learn.org.\n     See: https://github.com/scikit-learn/scikit-learn/issues/21755 */\n  display: inline-block !important;\n  position: relative;\n}\n\n#sk-container-id-1 div.sk-text-repr-fallback {\n  display: none;\n}\n\ndiv.sk-parallel-item,\ndiv.sk-serial,\ndiv.sk-item {\n  /* draw centered vertical line to link estimators */\n  background-image: linear-gradient(var(--sklearn-color-text-on-default-background), var(--sklearn-color-text-on-default-background));\n  background-size: 2px 100%;\n  background-repeat: no-repeat;\n  background-position: center center;\n}\n\n/* Parallel-specific style estimator block */\n\n#sk-container-id-1 div.sk-parallel-item::after {\n  content: \"\";\n  width: 100%;\n  border-bottom: 2px solid var(--sklearn-color-text-on-default-background);\n  flex-grow: 1;\n}\n\n#sk-container-id-1 div.sk-parallel {\n  display: flex;\n  align-items: stretch;\n  justify-content: center;\n  background-color: var(--sklearn-color-background);\n  position: relative;\n}\n\n#sk-container-id-1 div.sk-parallel-item {\n  display: flex;\n  flex-direction: column;\n}\n\n#sk-container-id-1 div.sk-parallel-item:first-child::after {\n  align-self: flex-end;\n  width: 50%;\n}\n\n#sk-container-id-1 div.sk-parallel-item:last-child::after {\n  align-self: flex-start;\n  width: 50%;\n}\n\n#sk-container-id-1 div.sk-parallel-item:only-child::after {\n  width: 0;\n}\n\n/* Serial-specific style estimator block */\n\n#sk-container-id-1 div.sk-serial {\n  display: flex;\n  flex-direction: column;\n  align-items: center;\n  background-color: var(--sklearn-color-background);\n  padding-right: 1em;\n  padding-left: 1em;\n}\n\n\n/* Toggleable style: style used for estimator/Pipeline/ColumnTransformer box that is\nclickable and can be expanded/collapsed.\n- Pipeline and ColumnTransformer use this feature and define the default style\n- Estimators will overwrite some part of the style using the `sk-estimator` class\n*/\n\n/* Pipeline and ColumnTransformer style (default) */\n\n#sk-container-id-1 div.sk-toggleable {\n  /* Default theme specific background. It is overwritten whether we have a\n  specific estimator or a Pipeline/ColumnTransformer */\n  background-color: var(--sklearn-color-background);\n}\n\n/* Toggleable label */\n#sk-container-id-1 label.sk-toggleable__label {\n  cursor: pointer;\n  display: block;\n  width: 100%;\n  margin-bottom: 0;\n  padding: 0.5em;\n  box-sizing: border-box;\n  text-align: center;\n}\n\n#sk-container-id-1 label.sk-toggleable__label-arrow:before {\n  /* Arrow on the left of the label */\n  content: \"▸\";\n  float: left;\n  margin-right: 0.25em;\n  color: var(--sklearn-color-icon);\n}\n\n#sk-container-id-1 label.sk-toggleable__label-arrow:hover:before {\n  color: var(--sklearn-color-text);\n}\n\n/* Toggleable content - dropdown */\n\n#sk-container-id-1 div.sk-toggleable__content {\n  max-height: 0;\n  max-width: 0;\n  overflow: hidden;\n  text-align: left;\n  /* unfitted */\n  background-color: var(--sklearn-color-unfitted-level-0);\n}\n\n#sk-container-id-1 div.sk-toggleable__content.fitted {\n  /* fitted */\n  background-color: var(--sklearn-color-fitted-level-0);\n}\n\n#sk-container-id-1 div.sk-toggleable__content pre {\n  margin: 0.2em;\n  border-radius: 0.25em;\n  color: var(--sklearn-color-text);\n  /* unfitted */\n  background-color: var(--sklearn-color-unfitted-level-0);\n}\n\n#sk-container-id-1 div.sk-toggleable__content.fitted pre {\n  /* unfitted */\n  background-color: var(--sklearn-color-fitted-level-0);\n}\n\n#sk-container-id-1 input.sk-toggleable__control:checked~div.sk-toggleable__content {\n  /* Expand drop-down */\n  max-height: 200px;\n  max-width: 100%;\n  overflow: auto;\n}\n\n#sk-container-id-1 input.sk-toggleable__control:checked~label.sk-toggleable__label-arrow:before {\n  content: \"▾\";\n}\n\n/* Pipeline/ColumnTransformer-specific style */\n\n#sk-container-id-1 div.sk-label input.sk-toggleable__control:checked~label.sk-toggleable__label {\n  color: var(--sklearn-color-text);\n  background-color: var(--sklearn-color-unfitted-level-2);\n}\n\n#sk-container-id-1 div.sk-label.fitted input.sk-toggleable__control:checked~label.sk-toggleable__label {\n  background-color: var(--sklearn-color-fitted-level-2);\n}\n\n/* Estimator-specific style */\n\n/* Colorize estimator box */\n#sk-container-id-1 div.sk-estimator input.sk-toggleable__control:checked~label.sk-toggleable__label {\n  /* unfitted */\n  background-color: var(--sklearn-color-unfitted-level-2);\n}\n\n#sk-container-id-1 div.sk-estimator.fitted input.sk-toggleable__control:checked~label.sk-toggleable__label {\n  /* fitted */\n  background-color: var(--sklearn-color-fitted-level-2);\n}\n\n#sk-container-id-1 div.sk-label label.sk-toggleable__label,\n#sk-container-id-1 div.sk-label label {\n  /* The background is the default theme color */\n  color: var(--sklearn-color-text-on-default-background);\n}\n\n/* On hover, darken the color of the background */\n#sk-container-id-1 div.sk-label:hover label.sk-toggleable__label {\n  color: var(--sklearn-color-text);\n  background-color: var(--sklearn-color-unfitted-level-2);\n}\n\n/* Label box, darken color on hover, fitted */\n#sk-container-id-1 div.sk-label.fitted:hover label.sk-toggleable__label.fitted {\n  color: var(--sklearn-color-text);\n  background-color: var(--sklearn-color-fitted-level-2);\n}\n\n/* Estimator label */\n\n#sk-container-id-1 div.sk-label label {\n  font-family: monospace;\n  font-weight: bold;\n  display: inline-block;\n  line-height: 1.2em;\n}\n\n#sk-container-id-1 div.sk-label-container {\n  text-align: center;\n}\n\n/* Estimator-specific */\n#sk-container-id-1 div.sk-estimator {\n  font-family: monospace;\n  border: 1px dotted var(--sklearn-color-border-box);\n  border-radius: 0.25em;\n  box-sizing: border-box;\n  margin-bottom: 0.5em;\n  /* unfitted */\n  background-color: var(--sklearn-color-unfitted-level-0);\n}\n\n#sk-container-id-1 div.sk-estimator.fitted {\n  /* fitted */\n  background-color: var(--sklearn-color-fitted-level-0);\n}\n\n/* on hover */\n#sk-container-id-1 div.sk-estimator:hover {\n  /* unfitted */\n  background-color: var(--sklearn-color-unfitted-level-2);\n}\n\n#sk-container-id-1 div.sk-estimator.fitted:hover {\n  /* fitted */\n  background-color: var(--sklearn-color-fitted-level-2);\n}\n\n/* Specification for estimator info (e.g. \"i\" and \"?\") */\n\n/* Common style for \"i\" and \"?\" */\n\n.sk-estimator-doc-link,\na:link.sk-estimator-doc-link,\na:visited.sk-estimator-doc-link {\n  float: right;\n  font-size: smaller;\n  line-height: 1em;\n  font-family: monospace;\n  background-color: var(--sklearn-color-background);\n  border-radius: 1em;\n  height: 1em;\n  width: 1em;\n  text-decoration: none !important;\n  margin-left: 1ex;\n  /* unfitted */\n  border: var(--sklearn-color-unfitted-level-1) 1pt solid;\n  color: var(--sklearn-color-unfitted-level-1);\n}\n\n.sk-estimator-doc-link.fitted,\na:link.sk-estimator-doc-link.fitted,\na:visited.sk-estimator-doc-link.fitted {\n  /* fitted */\n  border: var(--sklearn-color-fitted-level-1) 1pt solid;\n  color: var(--sklearn-color-fitted-level-1);\n}\n\n/* On hover */\ndiv.sk-estimator:hover .sk-estimator-doc-link:hover,\n.sk-estimator-doc-link:hover,\ndiv.sk-label-container:hover .sk-estimator-doc-link:hover,\n.sk-estimator-doc-link:hover {\n  /* unfitted */\n  background-color: var(--sklearn-color-unfitted-level-3);\n  color: var(--sklearn-color-background);\n  text-decoration: none;\n}\n\ndiv.sk-estimator.fitted:hover .sk-estimator-doc-link.fitted:hover,\n.sk-estimator-doc-link.fitted:hover,\ndiv.sk-label-container:hover .sk-estimator-doc-link.fitted:hover,\n.sk-estimator-doc-link.fitted:hover {\n  /* fitted */\n  background-color: var(--sklearn-color-fitted-level-3);\n  color: var(--sklearn-color-background);\n  text-decoration: none;\n}\n\n/* Span, style for the box shown on hovering the info icon */\n.sk-estimator-doc-link span {\n  display: none;\n  z-index: 9999;\n  position: relative;\n  font-weight: normal;\n  right: .2ex;\n  padding: .5ex;\n  margin: .5ex;\n  width: min-content;\n  min-width: 20ex;\n  max-width: 50ex;\n  color: var(--sklearn-color-text);\n  box-shadow: 2pt 2pt 4pt #999;\n  /* unfitted */\n  background: var(--sklearn-color-unfitted-level-0);\n  border: .5pt solid var(--sklearn-color-unfitted-level-3);\n}\n\n.sk-estimator-doc-link.fitted span {\n  /* fitted */\n  background: var(--sklearn-color-fitted-level-0);\n  border: var(--sklearn-color-fitted-level-3);\n}\n\n.sk-estimator-doc-link:hover span {\n  display: block;\n}\n\n/* \"?\"-specific style due to the `<a>` HTML tag */\n\n#sk-container-id-1 a.estimator_doc_link {\n  float: right;\n  font-size: 1rem;\n  line-height: 1em;\n  font-family: monospace;\n  background-color: var(--sklearn-color-background);\n  border-radius: 1rem;\n  height: 1rem;\n  width: 1rem;\n  text-decoration: none;\n  /* unfitted */\n  color: var(--sklearn-color-unfitted-level-1);\n  border: var(--sklearn-color-unfitted-level-1) 1pt solid;\n}\n\n#sk-container-id-1 a.estimator_doc_link.fitted {\n  /* fitted */\n  border: var(--sklearn-color-fitted-level-1) 1pt solid;\n  color: var(--sklearn-color-fitted-level-1);\n}\n\n/* On hover */\n#sk-container-id-1 a.estimator_doc_link:hover {\n  /* unfitted */\n  background-color: var(--sklearn-color-unfitted-level-3);\n  color: var(--sklearn-color-background);\n  text-decoration: none;\n}\n\n#sk-container-id-1 a.estimator_doc_link.fitted:hover {\n  /* fitted */\n  background-color: var(--sklearn-color-fitted-level-3);\n}\n</style><div id=\"sk-container-id-1\" class=\"sk-top-container\"><div class=\"sk-text-repr-fallback\"><pre>OneHotEncoder()</pre><b>In a Jupyter environment, please rerun this cell to show the HTML representation or trust the notebook. <br />On GitHub, the HTML representation is unable to render, please try loading this page with nbviewer.org.</b></div><div class=\"sk-container\" hidden><div class=\"sk-item\"><div class=\"sk-estimator fitted sk-toggleable\"><input class=\"sk-toggleable__control sk-hidden--visually\" id=\"sk-estimator-id-1\" type=\"checkbox\" checked><label for=\"sk-estimator-id-1\" class=\"sk-toggleable__label fitted sk-toggleable__label-arrow fitted\">&nbsp;&nbsp;OneHotEncoder<a class=\"sk-estimator-doc-link fitted\" rel=\"noreferrer\" target=\"_blank\" href=\"https://scikit-learn.org/1.5/modules/generated/sklearn.preprocessing.OneHotEncoder.html\">?<span>Documentation for OneHotEncoder</span></a><span class=\"sk-estimator-doc-link fitted\">i<span>Fitted</span></span></label><div class=\"sk-toggleable__content fitted\"><pre>OneHotEncoder()</pre></div> </div></div></div></div>"
     },
     "execution_count": 8,
     "metadata": {},
     "output_type": "execute_result"
    }
   ],
   "source": [
    "onehotencoder=OneHotEncoder()\n",
    "onehotencoder.fit(data.FTR.values.reshape(-1,1))"
   ]
  },
  {
   "cell_type": "markdown",
   "source": [],
   "metadata": {
    "collapsed": false
   }
  },
  {
   "cell_type": "code",
   "execution_count": 9,
   "metadata": {
    "ExecuteTime": {
     "end_time": "2025-04-15T13:14:25.877899100Z",
     "start_time": "2025-04-15T13:14:25.865055900Z"
    }
   },
   "outputs": [],
   "source": [
    "final=onehotencoder.transform([[each] for each in data.FTR]).toarray()"
   ]
  },
  {
   "cell_type": "code",
   "execution_count": 10,
   "metadata": {
    "ExecuteTime": {
     "end_time": "2025-04-15T13:14:27.037219500Z",
     "start_time": "2025-04-15T13:14:27.019522Z"
    }
   },
   "outputs": [
    {
     "name": "stdout",
     "output_type": "stream",
     "text": [
      "[[1. 0.]\n",
      " [1. 0.]\n",
      " [0. 1.]\n",
      " ...\n",
      " [1. 0.]\n",
      " [1. 0.]\n",
      " [0. 1.]]\n"
     ]
    }
   ],
   "source": [
    "final.shape\n",
    "print(final)"
   ]
  },
  {
   "cell_type": "markdown",
   "source": [],
   "metadata": {
    "collapsed": false
   }
  },
  {
   "cell_type": "code",
   "execution_count": 11,
   "metadata": {
    "ExecuteTime": {
     "end_time": "2025-04-15T13:14:29.328114700Z",
     "start_time": "2025-04-15T13:14:29.321344200Z"
    }
   },
   "outputs": [],
   "source": [
    "finalT=onehotencoder.transform([[each] for each in dataT.FTR]).toarray()"
   ]
  },
  {
   "cell_type": "code",
   "execution_count": 12,
   "metadata": {
    "ExecuteTime": {
     "end_time": "2025-04-15T13:14:30.483347100Z",
     "start_time": "2025-04-15T13:14:30.465631500Z"
    }
   },
   "outputs": [
    {
     "data": {
      "text/plain": "(380, 2)"
     },
     "execution_count": 12,
     "metadata": {},
     "output_type": "execute_result"
    }
   ],
   "source": [
    "finalT.shape"
   ]
  },
  {
   "cell_type": "code",
   "execution_count": 13,
   "metadata": {
    "ExecuteTime": {
     "end_time": "2025-04-15T13:14:33.761818100Z",
     "start_time": "2025-04-15T13:14:33.734734100Z"
    }
   },
   "outputs": [
    {
     "name": "stdout",
     "output_type": "stream",
     "text": [
      "[1. 1. 0. ... 1. 1. 0.]\n",
      "[0. 0. 1. ... 0. 0. 1.]\n",
      "            Date     HomeTeam     AwayTeam  FTR   VCH  B365H      HTGS  \\\n",
      "0     2010-08-14  Aston Villa     West Ham    0  2.00   2.00  0.000000   \n",
      "1     2010-08-14    Blackburn      Everton    0  3.10   2.88  0.000000   \n",
      "2     2010-08-14       Bolton       Fulham    1  2.20   2.20  0.000000   \n",
      "3     2010-08-14      Chelsea    West Brom    0  1.17   1.17  0.000000   \n",
      "4     2010-08-14   Sunderland   Birmingham    1  2.20   2.10  0.000000   \n",
      "...          ...          ...          ...  ...   ...    ...       ...   \n",
      "4935  2023-05-28      Everton  Bournemouth    0  1.44   1.50  0.323529   \n",
      "4936  2023-05-28        Leeds    Tottenham    1  2.75   2.75  0.460784   \n",
      "4937  2023-05-28    Leicester     West Ham    0  1.90   1.91  0.480392   \n",
      "4938  2023-05-28   Man United       Fulham    0  1.50   1.50  0.549020   \n",
      "4939  2023-05-28  Southampton    Liverpool    1  7.00   6.50  0.313725   \n",
      "\n",
      "          ATGS      HTGC      ATGC  ...   DiffPts  DiffFormPts  DiffLP  H2HM1  \\\n",
      "0     0.000000  0.000000  0.000000  ...  0.000000     0.000000   -11.0     -1   \n",
      "1     0.000000  0.000000  0.000000  ...  0.000000     0.000000     2.0     -1   \n",
      "2     0.000000  0.000000  0.000000  ...  0.000000     0.000000     2.0     -1   \n",
      "3     0.000000  0.000000  0.000000  ...  0.000000     0.000000   -17.0     -1   \n",
      "4     0.000000  0.000000  0.000000  ...  0.000000     0.000000     4.0     -1   \n",
      "...        ...       ...       ...  ...       ...          ...     ...    ...   \n",
      "4935  0.352381  0.564356  0.721649  ...  0.026316    -0.026316    -2.0      0   \n",
      "4936  0.628571  0.732673  0.639175  ...  0.000000    -0.052632    13.0      0   \n",
      "4937  0.390476  0.663366  0.546392  ... -0.052632    -0.078947     1.0      1   \n",
      "4938  0.514286  0.415842  0.525773  ...  0.052632     0.052632   -12.0      1   \n",
      "4939  0.676190  0.683168  0.443299  ... -0.026316    -0.342105    13.0      0   \n",
      "\n",
      "      H2HM2  H2HM3  H2HM4  H2HM5  final1  final2  \n",
      "0        -1     -1     -1     -1     1.0     0.0  \n",
      "1        -1     -1     -1     -1     1.0     0.0  \n",
      "2        -1     -1     -1     -1     0.0     1.0  \n",
      "3        -1     -1     -1     -1     1.0     0.0  \n",
      "4        -1     -1     -1     -1     0.0     1.0  \n",
      "...     ...    ...    ...    ...     ...     ...  \n",
      "4935      1      0      2      1     1.0     0.0  \n",
      "4936      1      0      2      0     0.0     1.0  \n",
      "4937      1      0      0      1     1.0     0.0  \n",
      "4938      1      1      1      2     1.0     0.0  \n",
      "4939      1      0      0      2     0.0     1.0  \n",
      "\n",
      "[4940 rows x 42 columns]\n"
     ]
    }
   ],
   "source": [
    "data.loc[:,\"final1\"]=final[:,0]\n",
    "data.loc[:,\"final2\"]=final[:,1]\n",
    "# data.loc[:,\"final3\"]=final[:,2]\n",
    "print(final[:,0])\n",
    "print(final[:,1])\n",
    "print(data)"
   ]
  },
  {
   "cell_type": "code",
   "execution_count": 14,
   "metadata": {
    "ExecuteTime": {
     "end_time": "2025-04-15T13:14:41.619914100Z",
     "start_time": "2025-04-15T13:14:41.596947700Z"
    }
   },
   "outputs": [
    {
     "data": {
      "text/plain": "         Date     HomeTeam    AwayTeam  FTR   VCH  B365H  HTGS  ATGS  HTGC  \\\n0  2010-08-14  Aston Villa    West Ham    0  2.00   2.00   0.0   0.0   0.0   \n1  2010-08-14    Blackburn     Everton    0  3.10   2.88   0.0   0.0   0.0   \n2  2010-08-14       Bolton      Fulham    1  2.20   2.20   0.0   0.0   0.0   \n3  2010-08-14      Chelsea   West Brom    0  1.17   1.17   0.0   0.0   0.0   \n4  2010-08-14   Sunderland  Birmingham    1  2.20   2.10   0.0   0.0   0.0   \n\n   ATGC  ...  DiffPts  DiffFormPts  DiffLP  H2HM1  H2HM2  H2HM3  H2HM4  H2HM5  \\\n0   0.0  ...      0.0          0.0   -11.0     -1     -1     -1     -1     -1   \n1   0.0  ...      0.0          0.0     2.0     -1     -1     -1     -1     -1   \n2   0.0  ...      0.0          0.0     2.0     -1     -1     -1     -1     -1   \n3   0.0  ...      0.0          0.0   -17.0     -1     -1     -1     -1     -1   \n4   0.0  ...      0.0          0.0     4.0     -1     -1     -1     -1     -1   \n\n   final1  final2  \n0     1.0     0.0  \n1     1.0     0.0  \n2     0.0     1.0  \n3     1.0     0.0  \n4     0.0     1.0  \n\n[5 rows x 42 columns]",
      "text/html": "<div>\n<style scoped>\n    .dataframe tbody tr th:only-of-type {\n        vertical-align: middle;\n    }\n\n    .dataframe tbody tr th {\n        vertical-align: top;\n    }\n\n    .dataframe thead th {\n        text-align: right;\n    }\n</style>\n<table border=\"1\" class=\"dataframe\">\n  <thead>\n    <tr style=\"text-align: right;\">\n      <th></th>\n      <th>Date</th>\n      <th>HomeTeam</th>\n      <th>AwayTeam</th>\n      <th>FTR</th>\n      <th>VCH</th>\n      <th>B365H</th>\n      <th>HTGS</th>\n      <th>ATGS</th>\n      <th>HTGC</th>\n      <th>ATGC</th>\n      <th>...</th>\n      <th>DiffPts</th>\n      <th>DiffFormPts</th>\n      <th>DiffLP</th>\n      <th>H2HM1</th>\n      <th>H2HM2</th>\n      <th>H2HM3</th>\n      <th>H2HM4</th>\n      <th>H2HM5</th>\n      <th>final1</th>\n      <th>final2</th>\n    </tr>\n  </thead>\n  <tbody>\n    <tr>\n      <th>0</th>\n      <td>2010-08-14</td>\n      <td>Aston Villa</td>\n      <td>West Ham</td>\n      <td>0</td>\n      <td>2.00</td>\n      <td>2.00</td>\n      <td>0.0</td>\n      <td>0.0</td>\n      <td>0.0</td>\n      <td>0.0</td>\n      <td>...</td>\n      <td>0.0</td>\n      <td>0.0</td>\n      <td>-11.0</td>\n      <td>-1</td>\n      <td>-1</td>\n      <td>-1</td>\n      <td>-1</td>\n      <td>-1</td>\n      <td>1.0</td>\n      <td>0.0</td>\n    </tr>\n    <tr>\n      <th>1</th>\n      <td>2010-08-14</td>\n      <td>Blackburn</td>\n      <td>Everton</td>\n      <td>0</td>\n      <td>3.10</td>\n      <td>2.88</td>\n      <td>0.0</td>\n      <td>0.0</td>\n      <td>0.0</td>\n      <td>0.0</td>\n      <td>...</td>\n      <td>0.0</td>\n      <td>0.0</td>\n      <td>2.0</td>\n      <td>-1</td>\n      <td>-1</td>\n      <td>-1</td>\n      <td>-1</td>\n      <td>-1</td>\n      <td>1.0</td>\n      <td>0.0</td>\n    </tr>\n    <tr>\n      <th>2</th>\n      <td>2010-08-14</td>\n      <td>Bolton</td>\n      <td>Fulham</td>\n      <td>1</td>\n      <td>2.20</td>\n      <td>2.20</td>\n      <td>0.0</td>\n      <td>0.0</td>\n      <td>0.0</td>\n      <td>0.0</td>\n      <td>...</td>\n      <td>0.0</td>\n      <td>0.0</td>\n      <td>2.0</td>\n      <td>-1</td>\n      <td>-1</td>\n      <td>-1</td>\n      <td>-1</td>\n      <td>-1</td>\n      <td>0.0</td>\n      <td>1.0</td>\n    </tr>\n    <tr>\n      <th>3</th>\n      <td>2010-08-14</td>\n      <td>Chelsea</td>\n      <td>West Brom</td>\n      <td>0</td>\n      <td>1.17</td>\n      <td>1.17</td>\n      <td>0.0</td>\n      <td>0.0</td>\n      <td>0.0</td>\n      <td>0.0</td>\n      <td>...</td>\n      <td>0.0</td>\n      <td>0.0</td>\n      <td>-17.0</td>\n      <td>-1</td>\n      <td>-1</td>\n      <td>-1</td>\n      <td>-1</td>\n      <td>-1</td>\n      <td>1.0</td>\n      <td>0.0</td>\n    </tr>\n    <tr>\n      <th>4</th>\n      <td>2010-08-14</td>\n      <td>Sunderland</td>\n      <td>Birmingham</td>\n      <td>1</td>\n      <td>2.20</td>\n      <td>2.10</td>\n      <td>0.0</td>\n      <td>0.0</td>\n      <td>0.0</td>\n      <td>0.0</td>\n      <td>...</td>\n      <td>0.0</td>\n      <td>0.0</td>\n      <td>4.0</td>\n      <td>-1</td>\n      <td>-1</td>\n      <td>-1</td>\n      <td>-1</td>\n      <td>-1</td>\n      <td>0.0</td>\n      <td>1.0</td>\n    </tr>\n  </tbody>\n</table>\n<p>5 rows × 42 columns</p>\n</div>"
     },
     "execution_count": 14,
     "metadata": {},
     "output_type": "execute_result"
    }
   ],
   "source": [
    "# data=data.drop([\"final\"],axis=1)\n",
    "data.head()"
   ]
  },
  {
   "cell_type": "code",
   "execution_count": 15,
   "metadata": {
    "ExecuteTime": {
     "end_time": "2025-04-15T13:15:04.450936100Z",
     "start_time": "2025-04-15T13:15:04.425024800Z"
    }
   },
   "outputs": [],
   "source": [
    "dataT.loc[:,\"final1\"]=finalT[:,0]\n",
    "dataT.loc[:,\"final2\"]=finalT[:,1]\n",
    "# dataT.loc[:,\"final3\"]=finalT[:,2]"
   ]
  },
  {
   "cell_type": "code",
   "execution_count": 16,
   "metadata": {
    "ExecuteTime": {
     "end_time": "2025-04-15T13:15:16.597713400Z",
     "start_time": "2025-04-15T13:15:16.574407500Z"
    }
   },
   "outputs": [
    {
     "data": {
      "text/plain": "         Date     HomeTeam       AwayTeam  FTR   VCH  B365H  HTGS  ATGS  HTGC  \\\n0  2023-08-11      Burnley       Man City    1  9.50   8.00   0.0   0.0   0.0   \n1  2023-08-12      Arsenal  Nott'm Forest    0  1.14   1.18   0.0   0.0   0.0   \n2  2023-08-12  Bournemouth       West Ham    1  2.63   2.70   0.0   0.0   0.0   \n3  2023-08-12     Brighton          Luton    0  1.29   1.33   0.0   0.0   0.0   \n4  2023-08-12      Everton         Fulham    1  2.20   2.20   0.0   0.0   0.0   \n\n   ATGC  ...  DiffPts  DiffFormPts  DiffLP  H2HM1  H2HM2  H2HM3  H2HM4  H2HM5  \\\n0   0.0  ...      0.0          0.0    17.0      1      0      1      0      0   \n1   0.0  ...      0.0          0.0   -14.0      0      2     -1     -1     -1   \n2   0.0  ...      0.0          0.0     1.0      1      0      0      1      2   \n3   0.0  ...      0.0          0.0   -12.0     -1     -1     -1     -1     -1   \n4   0.0  ...      0.0          0.0     7.0      1      1      1      1      0   \n\n   final1  final2  \n0     0.0     1.0  \n1     1.0     0.0  \n2     0.0     1.0  \n3     1.0     0.0  \n4     0.0     1.0  \n\n[5 rows x 42 columns]",
      "text/html": "<div>\n<style scoped>\n    .dataframe tbody tr th:only-of-type {\n        vertical-align: middle;\n    }\n\n    .dataframe tbody tr th {\n        vertical-align: top;\n    }\n\n    .dataframe thead th {\n        text-align: right;\n    }\n</style>\n<table border=\"1\" class=\"dataframe\">\n  <thead>\n    <tr style=\"text-align: right;\">\n      <th></th>\n      <th>Date</th>\n      <th>HomeTeam</th>\n      <th>AwayTeam</th>\n      <th>FTR</th>\n      <th>VCH</th>\n      <th>B365H</th>\n      <th>HTGS</th>\n      <th>ATGS</th>\n      <th>HTGC</th>\n      <th>ATGC</th>\n      <th>...</th>\n      <th>DiffPts</th>\n      <th>DiffFormPts</th>\n      <th>DiffLP</th>\n      <th>H2HM1</th>\n      <th>H2HM2</th>\n      <th>H2HM3</th>\n      <th>H2HM4</th>\n      <th>H2HM5</th>\n      <th>final1</th>\n      <th>final2</th>\n    </tr>\n  </thead>\n  <tbody>\n    <tr>\n      <th>0</th>\n      <td>2023-08-11</td>\n      <td>Burnley</td>\n      <td>Man City</td>\n      <td>1</td>\n      <td>9.50</td>\n      <td>8.00</td>\n      <td>0.0</td>\n      <td>0.0</td>\n      <td>0.0</td>\n      <td>0.0</td>\n      <td>...</td>\n      <td>0.0</td>\n      <td>0.0</td>\n      <td>17.0</td>\n      <td>1</td>\n      <td>0</td>\n      <td>1</td>\n      <td>0</td>\n      <td>0</td>\n      <td>0.0</td>\n      <td>1.0</td>\n    </tr>\n    <tr>\n      <th>1</th>\n      <td>2023-08-12</td>\n      <td>Arsenal</td>\n      <td>Nott'm Forest</td>\n      <td>0</td>\n      <td>1.14</td>\n      <td>1.18</td>\n      <td>0.0</td>\n      <td>0.0</td>\n      <td>0.0</td>\n      <td>0.0</td>\n      <td>...</td>\n      <td>0.0</td>\n      <td>0.0</td>\n      <td>-14.0</td>\n      <td>0</td>\n      <td>2</td>\n      <td>-1</td>\n      <td>-1</td>\n      <td>-1</td>\n      <td>1.0</td>\n      <td>0.0</td>\n    </tr>\n    <tr>\n      <th>2</th>\n      <td>2023-08-12</td>\n      <td>Bournemouth</td>\n      <td>West Ham</td>\n      <td>1</td>\n      <td>2.63</td>\n      <td>2.70</td>\n      <td>0.0</td>\n      <td>0.0</td>\n      <td>0.0</td>\n      <td>0.0</td>\n      <td>...</td>\n      <td>0.0</td>\n      <td>0.0</td>\n      <td>1.0</td>\n      <td>1</td>\n      <td>0</td>\n      <td>0</td>\n      <td>1</td>\n      <td>2</td>\n      <td>0.0</td>\n      <td>1.0</td>\n    </tr>\n    <tr>\n      <th>3</th>\n      <td>2023-08-12</td>\n      <td>Brighton</td>\n      <td>Luton</td>\n      <td>0</td>\n      <td>1.29</td>\n      <td>1.33</td>\n      <td>0.0</td>\n      <td>0.0</td>\n      <td>0.0</td>\n      <td>0.0</td>\n      <td>...</td>\n      <td>0.0</td>\n      <td>0.0</td>\n      <td>-12.0</td>\n      <td>-1</td>\n      <td>-1</td>\n      <td>-1</td>\n      <td>-1</td>\n      <td>-1</td>\n      <td>1.0</td>\n      <td>0.0</td>\n    </tr>\n    <tr>\n      <th>4</th>\n      <td>2023-08-12</td>\n      <td>Everton</td>\n      <td>Fulham</td>\n      <td>1</td>\n      <td>2.20</td>\n      <td>2.20</td>\n      <td>0.0</td>\n      <td>0.0</td>\n      <td>0.0</td>\n      <td>0.0</td>\n      <td>...</td>\n      <td>0.0</td>\n      <td>0.0</td>\n      <td>7.0</td>\n      <td>1</td>\n      <td>1</td>\n      <td>1</td>\n      <td>1</td>\n      <td>0</td>\n      <td>0.0</td>\n      <td>1.0</td>\n    </tr>\n  </tbody>\n</table>\n<p>5 rows × 42 columns</p>\n</div>"
     },
     "execution_count": 16,
     "metadata": {},
     "output_type": "execute_result"
    }
   ],
   "source": [
    "# data=data.drop([\"final\"],axis=1)\n",
    "dataT.head()"
   ]
  },
  {
   "cell_type": "code",
   "execution_count": 17,
   "metadata": {
    "ExecuteTime": {
     "end_time": "2025-04-15T13:15:34.055058100Z",
     "start_time": "2025-04-15T13:15:34.028143300Z"
    }
   },
   "outputs": [
    {
     "data": {
      "text/plain": "(380, 2)"
     },
     "execution_count": 17,
     "metadata": {},
     "output_type": "execute_result"
    }
   ],
   "source": [
    "# dataT[[\"final1\",\"final2\",\"final3\"]].values.shape\n",
    "dataT[[\"final1\",\"final2\"]].values.shape"
   ]
  },
  {
   "cell_type": "code",
   "execution_count": 18,
   "metadata": {
    "ExecuteTime": {
     "end_time": "2025-04-15T13:15:36.492602400Z",
     "start_time": "2025-04-15T13:15:36.485412500Z"
    }
   },
   "outputs": [],
   "source": [
    "data=data.drop([\"HM5\",\"AM5\"],axis=1)\n",
    "dataT=dataT.drop([\"HM5\",\"AM5\"],axis=1)"
   ]
  },
  {
   "cell_type": "code",
   "execution_count": 19,
   "metadata": {
    "ExecuteTime": {
     "end_time": "2025-04-15T13:15:37.992714100Z",
     "start_time": "2025-04-15T13:15:37.972240300Z"
    }
   },
   "outputs": [
    {
     "name": "stdout",
     "output_type": "stream",
     "text": [
      "(4940, 40)\n",
      "(380, 40)\n"
     ]
    }
   ],
   "source": [
    "print(data.shape)\n",
    "print(dataT.shape)"
   ]
  },
  {
   "cell_type": "code",
   "execution_count": 20,
   "metadata": {
    "ExecuteTime": {
     "end_time": "2025-04-15T13:15:42.206292200Z",
     "start_time": "2025-04-15T13:15:42.070366100Z"
    }
   },
   "outputs": [],
   "source": [
    "data.to_csv(\"allAtt_onehot_large_train_new8.csv\",index=None)\n",
    "dataT.to_csv(\"allAtt_onehot_large_test_new8.csv\",index=None)\n"
   ]
  },
  {
   "cell_type": "code",
   "execution_count": null,
   "metadata": {},
   "outputs": [],
   "source": []
  }
 ],
 "metadata": {
  "kernelspec": {
   "display_name": "Python 3",
   "language": "python",
   "name": "python3"
  },
  "language_info": {
   "codemirror_mode": {
    "name": "ipython",
    "version": 3
   },
   "file_extension": ".py",
   "mimetype": "text/x-python",
   "name": "python",
   "nbconvert_exporter": "python",
   "pygments_lexer": "ipython3",
   "version": "3.8.3-final"
  }
 },
 "nbformat": 4,
 "nbformat_minor": 2
}
