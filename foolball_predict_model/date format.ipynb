{
 "cells": [
  {
   "cell_type": "code",
   "execution_count": null,
   "id": "331cf669",
   "metadata": {},
   "outputs": [],
   "source": [
    "import pandas as pd\n",
    "\n",
    "# Load the CSV file\n",
    "df = pd.read_csv(\"datasets/2019-20.csv\")\n",
    "\n",
    "# Convert the Date column to day/month/two‑digit year format\n",
    "df[\"Date\"] = pd.to_datetime(df[\"Date\"], dayfirst=True).dt.strftime(\"%d/%m/%y\")\n",
    "\n",
    "# Save back to the same file (or specify a new filename)\n",
    "df.to_csv(\"datasets/2019-20.csv\", index=False)\n",
    "print(\"✅ Date format has been converted to two‑digit year!\")\n"
   ]
  }
 ],
 "metadata": {
  "language_info": {
   "name": "python"
  }
 },
 "nbformat": 4,
 "nbformat_minor": 5
}
