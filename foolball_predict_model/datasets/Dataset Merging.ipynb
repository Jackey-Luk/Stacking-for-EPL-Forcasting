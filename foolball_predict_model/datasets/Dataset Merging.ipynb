{
 "cells": [
  {
   "cell_type": "code",
   "execution_count": null,
   "id": "a46f610e",
   "metadata": {},
   "outputs": [],
   "source": [
    "import pandas as pd\n",
    "import os\n",
    "from datetime import datetime\n",
    "\n",
    "script_dir = os.getcwd()\n",
    "print(f\"Current working directory: {script_dir}\")\n",
    "\n",
    "\n",
    "\n",
    "all_data = []\n",
    "\n",
    "# Loop through each season file from 2010–11 up to 2023–24\n",
    "for year in range(2010, 2024):\n",
    "    next_year = str(year + 1)[-2:]\n",
    "    filename = f\"{year}-{next_year}.csv\"\n",
    "    filepath = os.path.join(script_dir, filename)\n",
    "    \n",
    "    print(f\"Attempting to read: {filepath}\")\n",
    "    \n",
    "    try:\n",
    "        df = pd.read_csv(filepath)\n",
    "        \n",
    "        # Parse and standardize the Date column to YYYY-MM-DD\n",
    "        df['Date'] = pd.to_datetime(df['Date'], format='%d/%m/%y')\n",
    "        df['Date'] = df['Date'].dt.strftime('%Y-%m-%d')\n",
    "        \n",
    "        all_data.append(df)\n",
    "        print(f\"Successfully read {filename}\")\n",
    "    except Exception as e:\n",
    "        print(f\"Error reading {filename}: {e}\")\n",
    "\n",
    "# If any data was loaded, concatenate and save\n",
    "if all_data:\n",
    "    combined_df = pd.concat(all_data, ignore_index=True)\n",
    "    \n",
    "    output_path = os.path.join(script_dir, 'all_seasons.csv')\n",
    "    combined_df.to_csv(output_path, index=False)\n",
    "    \n",
    "    print(f\"✅ Merge complete. Saved combined dataset to {output_path}\")\n",
    "else:\n",
    "    print(\"❌ No files were loaded. Please check that your CSVs are in the correct location.\")\n"
   ]
  }
 ],
 "metadata": {
  "language_info": {
   "name": "python"
  }
 },
 "nbformat": 4,
 "nbformat_minor": 5
}
