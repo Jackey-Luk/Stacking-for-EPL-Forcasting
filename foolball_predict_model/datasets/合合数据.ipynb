{
 "cells": [
  {
   "cell_type": "code",
   "execution_count": 2,
   "id": "599bbc1c",
   "metadata": {},
   "outputs": [
    {
     "name": "stdout",
     "output_type": "stream",
     "text": [
      "当前工作目录: e:\\graduation_thesis\\最终代码\\foolball_predict_model\\datasets\n",
      "尝试读取: e:\\graduation_thesis\\最终代码\\foolball_predict_model\\datasets\\2010-11.csv\n",
      "成功读取 2010-11.csv\n",
      "尝试读取: e:\\graduation_thesis\\最终代码\\foolball_predict_model\\datasets\\2011-12.csv\n",
      "成功读取 2011-12.csv\n",
      "尝试读取: e:\\graduation_thesis\\最终代码\\foolball_predict_model\\datasets\\2012-13.csv\n",
      "成功读取 2012-13.csv\n",
      "尝试读取: e:\\graduation_thesis\\最终代码\\foolball_predict_model\\datasets\\2013-14.csv\n",
      "成功读取 2013-14.csv\n",
      "尝试读取: e:\\graduation_thesis\\最终代码\\foolball_predict_model\\datasets\\2014-15.csv\n",
      "成功读取 2014-15.csv\n",
      "尝试读取: e:\\graduation_thesis\\最终代码\\foolball_predict_model\\datasets\\2015-16.csv\n",
      "成功读取 2015-16.csv\n",
      "尝试读取: e:\\graduation_thesis\\最终代码\\foolball_predict_model\\datasets\\2016-17.csv\n",
      "成功读取 2016-17.csv\n",
      "尝试读取: e:\\graduation_thesis\\最终代码\\foolball_predict_model\\datasets\\2017-18.csv\n",
      "成功读取 2017-18.csv\n",
      "尝试读取: e:\\graduation_thesis\\最终代码\\foolball_predict_model\\datasets\\2018-19.csv\n",
      "成功读取 2018-19.csv\n",
      "尝试读取: e:\\graduation_thesis\\最终代码\\foolball_predict_model\\datasets\\2019-20.csv\n",
      "成功读取 2019-20.csv\n",
      "尝试读取: e:\\graduation_thesis\\最终代码\\foolball_predict_model\\datasets\\2020-21.csv\n",
      "成功读取 2020-21.csv\n",
      "尝试读取: e:\\graduation_thesis\\最终代码\\foolball_predict_model\\datasets\\2021-22.csv\n",
      "成功读取 2021-22.csv\n",
      "尝试读取: e:\\graduation_thesis\\最终代码\\foolball_predict_model\\datasets\\2022-23.csv\n",
      "成功读取 2022-23.csv\n",
      "尝试读取: e:\\graduation_thesis\\最终代码\\foolball_predict_model\\datasets\\2023-24.csv\n",
      "成功读取 2023-24.csv\n",
      "✅ 合并完成并已保存为 e:\\graduation_thesis\\最终代码\\foolball_predict_model\\datasets\\all_seasons.csv\n"
     ]
    }
   ],
   "source": [
    "import pandas as pd\n",
    "import os\n",
    "from datetime import datetime\n",
    "\n",
    "# 在 Jupyter 中，直接指定工作目录\n",
    "# 可以使用当前工作目录，或手动指定目录路径\n",
    "script_dir = os.getcwd()  # 使用当前工作目录\n",
    "print(f\"当前工作目录: {script_dir}\")\n",
    "\n",
    "# 如果需要，可以手动设置工作目录\n",
    "# os.chdir('E:/graduation_thesis/最终代码/foolball_predict_model/datasets')\n",
    "# script_dir = os.getcwd()\n",
    "# print(f\"切换后工作目录: {script_dir}\")\n",
    "\n",
    "all_data = []\n",
    "\n",
    "# 循环读取文件\n",
    "for year in range(2010, 2024):\n",
    "    next_year = str(year + 1)[-2:]\n",
    "    filename = f\"{year}-{next_year}.csv\"\n",
    "    filepath = os.path.join(script_dir, filename)\n",
    "    \n",
    "    print(f\"尝试读取: {filepath}\")\n",
    "    \n",
    "    try:\n",
    "        df = pd.read_csv(filepath)\n",
    "        \n",
    "        # 处理日期：转换为标准 yyyy-mm-dd 格式\n",
    "        df['Date'] = pd.to_datetime(df['Date'], format='%d/%m/%y')\n",
    "        df['Date'] = df['Date'].dt.strftime('%Y-%m-%d')\n",
    "        \n",
    "        all_data.append(df)\n",
    "        print(f\"成功读取 {filename}\")\n",
    "    except Exception as e:\n",
    "        print(f\"读取 {filename} 时出错: {e}\")\n",
    "\n",
    "# 如果有数据才合并\n",
    "if all_data:\n",
    "    # 合并所有数据\n",
    "    combined_df = pd.concat(all_data, ignore_index=True)\n",
    "    \n",
    "    # 保存新文件\n",
    "    output_path = os.path.join(script_dir, 'all_seasons.csv')\n",
    "    combined_df.to_csv(output_path, index=False)\n",
    "    \n",
    "    print(f\"✅ 合并完成并已保存为 {output_path}\")\n",
    "else:\n",
    "    print(\"❌ 没有成功读取任何数据文件，请检查文件路径\")"
   ]
  }
 ],
 "metadata": {
  "kernelspec": {
   "display_name": "base",
   "language": "python",
   "name": "python3"
  },
  "language_info": {
   "codemirror_mode": {
    "name": "ipython",
    "version": 3
   },
   "file_extension": ".py",
   "mimetype": "text/x-python",
   "name": "python",
   "nbconvert_exporter": "python",
   "pygments_lexer": "ipython3",
   "version": "3.9.20"
  }
 },
 "nbformat": 4,
 "nbformat_minor": 5
}
