{
 "cells": [
  {
   "cell_type": "code",
   "execution_count": 3,
   "id": "initial_id",
   "metadata": {
    "collapsed": true,
    "ExecuteTime": {
     "end_time": "2025-04-18T16:50:50.507270300Z",
     "start_time": "2025-04-18T16:50:44.388181300Z"
    }
   },
   "outputs": [
    {
     "name": "stdout",
     "output_type": "stream",
     "text": [
      "✅ Accuracy: 0.6868\n",
      "📊 Classification Report:\n",
      "              precision    recall  f1-score   support\n",
      "\n",
      "           0       0.66      0.66      0.66       175\n",
      "           1       0.71      0.71      0.71       205\n",
      "\n",
      "    accuracy                           0.69       380\n",
      "   macro avg       0.68      0.69      0.69       380\n",
      "weighted avg       0.69      0.69      0.69       380\n"
     ]
    }
   ],
   "source": [
    "import pandas as pd\n",
    "import numpy as np\n",
    "from catboost import CatBoostClassifier\n",
    "from sklearn.metrics import accuracy_score, classification_report\n",
    "import warnings\n",
    "warnings.filterwarnings(\"ignore\")\n",
    "\n",
    "# 读取数据\n",
    "dataTrain=pd.read_csv(\"allAtt_onehot_large_train_new8.csv\")\n",
    "dataTest=pd.read_csv(\"allAtt_onehot_large_test_new8.csv\")\n",
    "# 假设数据已经准备好\n",
    "x_train, y_train = dataTrain.iloc[:,4:38].values,dataTrain.iloc[:,38:].values\n",
    "x_test, y_test = dataTest.iloc[:,4:38].values,dataTest.iloc[:,38:].values\n",
    "\n",
    "# 如果 y 是 one-hot 编码，则转为整数标签\n",
    "y_train_int = np.argmax(y_train, axis=1)\n",
    "y_test_int = np.argmax(y_test, axis=1)\n",
    "\n",
    "# 构建 CatBoostClassifier（二分类）\n",
    "model = CatBoostClassifier(\n",
    "    iterations=500,\n",
    "    learning_rate=0.1,\n",
    "    depth=6,\n",
    "    loss_function='MultiClass',\n",
    "    eval_metric='Accuracy',\n",
    "    verbose=0,  # 训练过程不打印输出\n",
    "    random_seed=42\n",
    ")\n",
    "\n",
    "# 训练模型\n",
    "model.fit(x_train, y_train_int)\n",
    "\n",
    "# 预测\n",
    "y_pred = model.predict(x_test)\n",
    "y_pred = y_pred.flatten()  # 保证是1D向量\n",
    "\n",
    "# 评估\n",
    "acc = accuracy_score(y_test_int, y_pred)\n",
    "print(f\"✅ Accuracy: {acc:.4f}\")\n",
    "print(\"📊 Classification Report:\")\n",
    "print(classification_report(y_test_int, y_pred))"
   ]
  },
  {
   "cell_type": "code",
   "outputs": [
    {
     "data": {
      "text/plain": "['models/catboost_model.pkl']"
     },
     "execution_count": 5,
     "metadata": {},
     "output_type": "execute_result"
    }
   ],
   "source": [
    "import joblib\n",
    "\n",
    "joblib.dump(model, 'models/catboost_model.pkl')"
   ],
   "metadata": {
    "collapsed": false,
    "ExecuteTime": {
     "end_time": "2025-04-18T16:51:16.949715200Z",
     "start_time": "2025-04-18T16:51:16.933984300Z"
    }
   },
   "id": "ff97e9622a3b738d",
   "execution_count": 5
  },
  {
   "cell_type": "code",
   "outputs": [],
   "source": [
    "model = joblib.load('models/catboost_model.pkl')"
   ],
   "metadata": {
    "collapsed": false,
    "ExecuteTime": {
     "end_time": "2025-04-18T16:51:35.855458600Z",
     "start_time": "2025-04-18T16:51:35.842443Z"
    }
   },
   "id": "9d0872c69dc60973",
   "execution_count": 6
  }
 ],
 "metadata": {
  "kernelspec": {
   "display_name": "Python 3",
   "language": "python",
   "name": "python3"
  },
  "language_info": {
   "codemirror_mode": {
    "name": "ipython",
    "version": 2
   },
   "file_extension": ".py",
   "mimetype": "text/x-python",
   "name": "python",
   "nbconvert_exporter": "python",
   "pygments_lexer": "ipython2",
   "version": "2.7.6"
  }
 },
 "nbformat": 4,
 "nbformat_minor": 5
}
