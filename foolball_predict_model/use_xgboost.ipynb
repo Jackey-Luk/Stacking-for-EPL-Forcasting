{
 "cells": [
  {
   "cell_type": "code",
   "execution_count": 2,
   "id": "initial_id",
   "metadata": {
    "collapsed": true,
    "ExecuteTime": {
     "end_time": "2025-04-18T16:49:39.445642500Z",
     "start_time": "2025-04-18T16:49:38.877788100Z"
    }
   },
   "outputs": [
    {
     "name": "stdout",
     "output_type": "stream",
     "text": [
      "✅ Accuracy: 0.6395\n",
      "📊 Classification Report:\n",
      "              precision    recall  f1-score   support\n",
      "\n",
      "           0       0.61      0.59      0.60       175\n",
      "           1       0.66      0.68      0.67       205\n",
      "\n",
      "    accuracy                           0.64       380\n",
      "   macro avg       0.64      0.64      0.64       380\n",
      "weighted avg       0.64      0.64      0.64       380\n"
     ]
    }
   ],
   "source": [
    "import pandas as pd\n",
    "import xgboost as xgb\n",
    "import numpy as np\n",
    "from sklearn.metrics import accuracy_score, classification_report\n",
    "import joblib\n",
    "import warnings\n",
    "warnings.filterwarnings(\"ignore\")\n",
    "# 读取数据\n",
    "dataTrain=pd.read_csv(\"allAtt_onehot_large_train_new8.csv\")\n",
    "dataTest=pd.read_csv(\"allAtt_onehot_large_test_new8.csv\")\n",
    "# 假设数据已经准备好\n",
    "x_train, y_train = dataTrain.iloc[:,4:38].values,dataTrain.iloc[:,38:].values\n",
    "x_test, y_test = dataTest.iloc[:,4:38].values,dataTest.iloc[:,38:].values\n",
    "\n",
    "# 如果 y_train 和 y_test 是独热编码的标签，需要转换为整数标签\n",
    "y_train_int = np.argmax(y_train, axis=1)\n",
    "y_test_int = np.argmax(y_test, axis=1)\n",
    "\n",
    "# 使用 XGBoost 训练三分类模型\n",
    "model = xgb.XGBClassifier(\n",
    "    objective=\"multi:softmax\",  # 指定为多分类问题\n",
    "    num_class=2,  # 三个类别\n",
    "    eval_metric=\"mlogloss\",  # 计算多类对数损失\n",
    "    use_label_encoder=False,  # 防止警告\n",
    ")\n",
    "\n",
    "# 训练模型\n",
    "model.fit(x_train, y_train_int)\n",
    "\n",
    "# 预测\n",
    "y_pred = model.predict(x_test)\n",
    "\n",
    "# 计算准确率\n",
    "acc = accuracy_score(y_test_int, y_pred)\n",
    "print(f\"✅ Accuracy: {acc:.4f}\")\n",
    "\n",
    "# 分类报告\n",
    "print(\"📊 Classification Report:\")\n",
    "print(classification_report(y_test_int, y_pred))\n",
    "# 保存"
   ]
  },
  {
   "cell_type": "code",
   "outputs": [
    {
     "data": {
      "text/plain": "['models/xgboost_model.pkl']"
     },
     "execution_count": 3,
     "metadata": {},
     "output_type": "execute_result"
    }
   ],
   "source": [
    "joblib.dump(model, 'models/xgboost_model.pkl')"
   ],
   "metadata": {
    "collapsed": false,
    "ExecuteTime": {
     "end_time": "2025-04-18T16:49:50.796354700Z",
     "start_time": "2025-04-18T16:49:50.774474500Z"
    }
   },
   "id": "a74baf9a5d615cbb",
   "execution_count": 3
  },
  {
   "cell_type": "code",
   "outputs": [],
   "source": [
    "model = joblib.load('models/xgboost_model.pkl')"
   ],
   "metadata": {
    "collapsed": false,
    "ExecuteTime": {
     "end_time": "2025-04-18T16:50:09.947193300Z",
     "start_time": "2025-04-18T16:50:09.930205Z"
    }
   },
   "id": "8856cad6bf93f56a",
   "execution_count": 4
  }
 ],
 "metadata": {
  "kernelspec": {
   "display_name": "Python 3",
   "language": "python",
   "name": "python3"
  },
  "language_info": {
   "codemirror_mode": {
    "name": "ipython",
    "version": 2
   },
   "file_extension": ".py",
   "mimetype": "text/x-python",
   "name": "python",
   "nbconvert_exporter": "python",
   "pygments_lexer": "ipython2",
   "version": "2.7.6"
  }
 },
 "nbformat": 4,
 "nbformat_minor": 5
}
