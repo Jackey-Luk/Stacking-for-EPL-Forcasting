{
 "cells": [
  {
   "cell_type": "code",
   "execution_count": null,
   "id": "dbaf92d6",
   "metadata": {},
   "outputs": [],
   "source": [
    "import pandas as pd\n",
    "import numpy as np\n",
    "import warnings\n",
    "from sklearn.naive_bayes import GaussianNB\n",
    "from sklearn.tree import DecisionTreeClassifier\n",
    "from sklearn.svm import SVC\n",
    "from sklearn.neighbors import KNeighborsClassifier\n",
    "from sklearn.metrics import classification_report, accuracy_score\n",
    "\n",
    "warnings.filterwarnings(\"ignore\")\n",
    "\n",
    "# === 1. Load data ===\n",
    "data_train = pd.read_csv(\"allAtt_onehot_large_train_new8.csv\")\n",
    "data_test = pd.read_csv(\"allAtt_onehot_large_test_new8.csv\")\n",
    "\n",
    "print(data_train.head(10))\n",
    "print(f\"Training set shape: {data_train.shape}\")\n",
    "\n",
    "# Features and one-hot encoded labels\n",
    "X_train = data_train.iloc[:, 6:38].values\n",
    "y_train_onehot = data_train.iloc[:, 38:].values\n",
    "X_test = data_test.iloc[:, 6:38].values\n",
    "y_test_onehot = data_test.iloc[:, 38:].values\n",
    "\n",
    "# === 2. Reshape data for LSTM input (if needed) ===\n",
    "X_train_lstm = X_train.reshape((X_train.shape[0], X_train.shape[1], 1))\n",
    "X_test_lstm = X_test.reshape((X_test.shape[0], X_test.shape[1], 1))\n",
    "\n",
    "# === 3. Convert one-hot labels to single-label form for other models ===\n",
    "y_train = np.argmax(y_train_onehot, axis=1)\n",
    "y_test = np.argmax(y_test_onehot, axis=1)\n",
    "\n",
    "# === 4. Define and train classic classifiers ===\n",
    "models = {\n",
    "    'Naive Bayes': GaussianNB(),\n",
    "    'Decision Tree': DecisionTreeClassifier(random_state=42),\n",
    "    'SVM': SVC(probability=True, kernel='rbf', random_state=42),\n",
    "    'KNN': KNeighborsClassifier(n_neighbors=5)\n",
    "}\n",
    "\n",
    "# Loop through each model: train, predict, and evaluate\n",
    "for name, model in models.items():\n",
    "    print(f'\\n====== {name} ======')\n",
    "    model.fit(X_train, y_train)\n",
    "    y_pred = model.predict(X_test)\n",
    "\n",
    "    acc = accuracy_score(y_test, y_pred)\n",
    "    print(f'Accuracy: {acc:.4f}\\n')\n",
    "    print(classification_report(y_test, y_pred, digits=4))\n"
   ]
  }
 ],
 "metadata": {
  "language_info": {
   "name": "python"
  }
 },
 "nbformat": 4,
 "nbformat_minor": 5
}
